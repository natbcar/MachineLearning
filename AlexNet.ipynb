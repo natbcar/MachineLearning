{
  "nbformat": 4,
  "nbformat_minor": 0,
  "metadata": {
    "colab": {
      "name": "AlexNet.ipynb",
      "provenance": [],
      "authorship_tag": "ABX9TyO3r28E8iKV0wZaQbbj310g",
      "include_colab_link": true
    },
    "kernelspec": {
      "name": "python3",
      "display_name": "Python 3"
    },
    "language_info": {
      "name": "python"
    },
    "accelerator": "GPU",
    "widgets": {
      "application/vnd.jupyter.widget-state+json": {
        "fc09a70c0b784598a76638991e233edb": {
          "model_module": "@jupyter-widgets/controls",
          "model_name": "HBoxModel",
          "state": {
            "_view_name": "HBoxView",
            "_dom_classes": [],
            "_model_name": "HBoxModel",
            "_view_module": "@jupyter-widgets/controls",
            "_model_module_version": "1.5.0",
            "_view_count": null,
            "_view_module_version": "1.5.0",
            "box_style": "",
            "layout": "IPY_MODEL_0501817d95bb4a2b994bb558d57e6e8f",
            "_model_module": "@jupyter-widgets/controls",
            "children": [
              "IPY_MODEL_043899f1bcea42e6bb29c2d8525af2a0",
              "IPY_MODEL_846d5ffd58fc48a58e5d10588aaf50ac"
            ]
          }
        },
        "0501817d95bb4a2b994bb558d57e6e8f": {
          "model_module": "@jupyter-widgets/base",
          "model_name": "LayoutModel",
          "state": {
            "_view_name": "LayoutView",
            "grid_template_rows": null,
            "right": null,
            "justify_content": null,
            "_view_module": "@jupyter-widgets/base",
            "overflow": null,
            "_model_module_version": "1.2.0",
            "_view_count": null,
            "flex_flow": null,
            "width": null,
            "min_width": null,
            "border": null,
            "align_items": null,
            "bottom": null,
            "_model_module": "@jupyter-widgets/base",
            "top": null,
            "grid_column": null,
            "overflow_y": null,
            "overflow_x": null,
            "grid_auto_flow": null,
            "grid_area": null,
            "grid_template_columns": null,
            "flex": null,
            "_model_name": "LayoutModel",
            "justify_items": null,
            "grid_row": null,
            "max_height": null,
            "align_content": null,
            "visibility": null,
            "align_self": null,
            "height": null,
            "min_height": null,
            "padding": null,
            "grid_auto_rows": null,
            "grid_gap": null,
            "max_width": null,
            "order": null,
            "_view_module_version": "1.2.0",
            "grid_template_areas": null,
            "object_position": null,
            "object_fit": null,
            "grid_auto_columns": null,
            "margin": null,
            "display": null,
            "left": null
          }
        },
        "043899f1bcea42e6bb29c2d8525af2a0": {
          "model_module": "@jupyter-widgets/controls",
          "model_name": "FloatProgressModel",
          "state": {
            "_view_name": "ProgressView",
            "style": "IPY_MODEL_9ae822f47ac34eeb95f258347e3b6692",
            "_dom_classes": [],
            "description": "",
            "_model_name": "FloatProgressModel",
            "bar_style": "success",
            "max": 170498071,
            "_view_module": "@jupyter-widgets/controls",
            "_model_module_version": "1.5.0",
            "value": 170498071,
            "_view_count": null,
            "_view_module_version": "1.5.0",
            "orientation": "horizontal",
            "min": 0,
            "description_tooltip": null,
            "_model_module": "@jupyter-widgets/controls",
            "layout": "IPY_MODEL_5639a280997040e0a39d87a4d8ce3f8a"
          }
        },
        "846d5ffd58fc48a58e5d10588aaf50ac": {
          "model_module": "@jupyter-widgets/controls",
          "model_name": "HTMLModel",
          "state": {
            "_view_name": "HTMLView",
            "style": "IPY_MODEL_a6410637165149a496ceb52bfb501ed1",
            "_dom_classes": [],
            "description": "",
            "_model_name": "HTMLModel",
            "placeholder": "​",
            "_view_module": "@jupyter-widgets/controls",
            "_model_module_version": "1.5.0",
            "value": " 170499072/? [00:12&lt;00:00, 13126525.65it/s]",
            "_view_count": null,
            "_view_module_version": "1.5.0",
            "description_tooltip": null,
            "_model_module": "@jupyter-widgets/controls",
            "layout": "IPY_MODEL_00342241bec4418496b36a17cdbbb24c"
          }
        },
        "9ae822f47ac34eeb95f258347e3b6692": {
          "model_module": "@jupyter-widgets/controls",
          "model_name": "ProgressStyleModel",
          "state": {
            "_view_name": "StyleView",
            "_model_name": "ProgressStyleModel",
            "description_width": "initial",
            "_view_module": "@jupyter-widgets/base",
            "_model_module_version": "1.5.0",
            "_view_count": null,
            "_view_module_version": "1.2.0",
            "bar_color": null,
            "_model_module": "@jupyter-widgets/controls"
          }
        },
        "5639a280997040e0a39d87a4d8ce3f8a": {
          "model_module": "@jupyter-widgets/base",
          "model_name": "LayoutModel",
          "state": {
            "_view_name": "LayoutView",
            "grid_template_rows": null,
            "right": null,
            "justify_content": null,
            "_view_module": "@jupyter-widgets/base",
            "overflow": null,
            "_model_module_version": "1.2.0",
            "_view_count": null,
            "flex_flow": null,
            "width": null,
            "min_width": null,
            "border": null,
            "align_items": null,
            "bottom": null,
            "_model_module": "@jupyter-widgets/base",
            "top": null,
            "grid_column": null,
            "overflow_y": null,
            "overflow_x": null,
            "grid_auto_flow": null,
            "grid_area": null,
            "grid_template_columns": null,
            "flex": null,
            "_model_name": "LayoutModel",
            "justify_items": null,
            "grid_row": null,
            "max_height": null,
            "align_content": null,
            "visibility": null,
            "align_self": null,
            "height": null,
            "min_height": null,
            "padding": null,
            "grid_auto_rows": null,
            "grid_gap": null,
            "max_width": null,
            "order": null,
            "_view_module_version": "1.2.0",
            "grid_template_areas": null,
            "object_position": null,
            "object_fit": null,
            "grid_auto_columns": null,
            "margin": null,
            "display": null,
            "left": null
          }
        },
        "a6410637165149a496ceb52bfb501ed1": {
          "model_module": "@jupyter-widgets/controls",
          "model_name": "DescriptionStyleModel",
          "state": {
            "_view_name": "StyleView",
            "_model_name": "DescriptionStyleModel",
            "description_width": "",
            "_view_module": "@jupyter-widgets/base",
            "_model_module_version": "1.5.0",
            "_view_count": null,
            "_view_module_version": "1.2.0",
            "_model_module": "@jupyter-widgets/controls"
          }
        },
        "00342241bec4418496b36a17cdbbb24c": {
          "model_module": "@jupyter-widgets/base",
          "model_name": "LayoutModel",
          "state": {
            "_view_name": "LayoutView",
            "grid_template_rows": null,
            "right": null,
            "justify_content": null,
            "_view_module": "@jupyter-widgets/base",
            "overflow": null,
            "_model_module_version": "1.2.0",
            "_view_count": null,
            "flex_flow": null,
            "width": null,
            "min_width": null,
            "border": null,
            "align_items": null,
            "bottom": null,
            "_model_module": "@jupyter-widgets/base",
            "top": null,
            "grid_column": null,
            "overflow_y": null,
            "overflow_x": null,
            "grid_auto_flow": null,
            "grid_area": null,
            "grid_template_columns": null,
            "flex": null,
            "_model_name": "LayoutModel",
            "justify_items": null,
            "grid_row": null,
            "max_height": null,
            "align_content": null,
            "visibility": null,
            "align_self": null,
            "height": null,
            "min_height": null,
            "padding": null,
            "grid_auto_rows": null,
            "grid_gap": null,
            "max_width": null,
            "order": null,
            "_view_module_version": "1.2.0",
            "grid_template_areas": null,
            "object_position": null,
            "object_fit": null,
            "grid_auto_columns": null,
            "margin": null,
            "display": null,
            "left": null
          }
        }
      }
    }
  },
  "cells": [
    {
      "cell_type": "markdown",
      "metadata": {
        "id": "view-in-github",
        "colab_type": "text"
      },
      "source": [
        "<a href=\"https://colab.research.google.com/github/natbcar/MachineLearning/blob/main/AlexNet.ipynb\" target=\"_parent\"><img src=\"https://colab.research.google.com/assets/colab-badge.svg\" alt=\"Open In Colab\"/></a>"
      ]
    },
    {
      "cell_type": "code",
      "metadata": {
        "id": "pTNyIL9En9ex"
      },
      "source": [
        "import torch\n",
        "import numpy as np\n",
        "from torch import nn\n",
        "from torch.utils.data import Dataset\n",
        "from torch.utils.data import DataLoader\n",
        "from torchvision import datasets\n",
        "from torchvision import transforms\n",
        "import matplotlib.pyplot as plt "
      ],
      "execution_count": 1,
      "outputs": []
    },
    {
      "cell_type": "code",
      "metadata": {
        "colab": {
          "base_uri": "https://localhost:8080/",
          "height": 117,
          "referenced_widgets": [
            "fc09a70c0b784598a76638991e233edb",
            "0501817d95bb4a2b994bb558d57e6e8f",
            "043899f1bcea42e6bb29c2d8525af2a0",
            "846d5ffd58fc48a58e5d10588aaf50ac",
            "9ae822f47ac34eeb95f258347e3b6692",
            "5639a280997040e0a39d87a4d8ce3f8a",
            "a6410637165149a496ceb52bfb501ed1",
            "00342241bec4418496b36a17cdbbb24c"
          ]
        },
        "id": "8xmVexf2oASB",
        "outputId": "93fd8fa5-ca51-4c48-aab0-5ef5bdf9c454"
      },
      "source": [
        "# Transform to convert images to a tensor and then normalize pixel values to range [-1,1]\n",
        "transform = transforms.Compose(\n",
        "    [transforms.ToTensor(),\n",
        "    transforms.Normalize((0.5, 0.5, 0.5), (0.5, 0.5, 0.5))]\n",
        ")\n",
        "\n",
        "# Loading in the CIFAR10 datasets\n",
        "training_data = datasets.CIFAR10(\n",
        "    root=\"data\",\n",
        "    train=True,\n",
        "    download=True,\n",
        "    transform=transform\n",
        ")\n",
        "\n",
        "test_data = datasets.CIFAR10(\n",
        "    root=\"data\",\n",
        "    train=False,\n",
        "    download=True,\n",
        "    transform=transform\n",
        ")"
      ],
      "execution_count": 2,
      "outputs": [
        {
          "output_type": "stream",
          "text": [
            "Downloading https://www.cs.toronto.edu/~kriz/cifar-10-python.tar.gz to data/cifar-10-python.tar.gz\n"
          ],
          "name": "stdout"
        },
        {
          "output_type": "display_data",
          "data": {
            "application/vnd.jupyter.widget-view+json": {
              "model_id": "fc09a70c0b784598a76638991e233edb",
              "version_minor": 0,
              "version_major": 2
            },
            "text/plain": [
              "HBox(children=(FloatProgress(value=0.0, max=170498071.0), HTML(value='')))"
            ]
          },
          "metadata": {
            "tags": []
          }
        },
        {
          "output_type": "stream",
          "text": [
            "\n",
            "Extracting data/cifar-10-python.tar.gz to data\n",
            "Files already downloaded and verified\n"
          ],
          "name": "stdout"
        }
      ]
    },
    {
      "cell_type": "code",
      "metadata": {
        "id": "dtSFI-g_qN_W"
      },
      "source": [
        "# Create the data loaders for test and training data \n",
        "train_loader = DataLoader(training_data, batch_size=128, shuffle=True)\n",
        "test_loader = DataLoader(test_data, batch_size=128, shuffle=True)"
      ],
      "execution_count": 22,
      "outputs": []
    },
    {
      "cell_type": "code",
      "metadata": {
        "id": "YhNKr4zmoG7p"
      },
      "source": [
        "label_dict = {\n",
        "    0 : \"airplane\",\n",
        "    1 : \"automobile\", \n",
        "    2 : \"bird\",\n",
        "    3 : \"cat\",\n",
        "    4 : \"deer\",\n",
        "    5 : \"dog\",\n",
        "    6 : \"frog\",\n",
        "    7 : \"horse\",\n",
        "    8 : \"ship\",\n",
        "    9 : \"truck\"\n",
        "}"
      ],
      "execution_count": 23,
      "outputs": []
    },
    {
      "cell_type": "code",
      "metadata": {
        "id": "ow2pyRUksBcF"
      },
      "source": [
        "def show_img(img, label, fig):\n",
        "  \"\"\" Displays a 3 channel RGB image\n",
        "  \"\"\"\n",
        "  img = img / 2 + 0.5 # unnormalize the image sinc we normalized when importing data\n",
        "  img = img.numpy() # cast tensor into numpy array\n",
        "  img = np.transpose(img, (1, 2, 0)) # permute the channels so array goes from (3, 32, 32) ---> (32, 32, 3)\n",
        "\n",
        "  # display the image\n",
        "  fig.add_subplot(rows, cols, i) \n",
        "  plt.imshow(img)\n",
        "  plt.title(label_dict[label])\n",
        "  plt.axis(\"off\")"
      ],
      "execution_count": 24,
      "outputs": []
    },
    {
      "cell_type": "code",
      "metadata": {
        "colab": {
          "base_uri": "https://localhost:8080/",
          "height": 536
        },
        "id": "Yl7VLMoaoi2f",
        "outputId": "b67686f8-6f96-4420-80a6-79ff5b61c0fe"
      },
      "source": [
        "# Lets display some images from the CIFAR-10 dataset\n",
        "fig = plt.figure(figsize=(9,9))\n",
        "cols, rows = 3, 3\n",
        "for i in range(1, cols*rows+1):\n",
        "  rand_idx = torch.randint(len(training_data), size=(1,)).item()\n",
        "  img, label = training_data[rand_idx]\n",
        "  show_img(img, label, fig)\n",
        "\n",
        "plt.show()"
      ],
      "execution_count": 25,
      "outputs": [
        {
          "output_type": "display_data",
          "data": {
            "image/png": "[encoded data removed]",
            "text/plain": [
              "<Figure size 648x648 with 9 Axes>"
            ]
          },
          "metadata": {
            "tags": [],
            "needs_background": "light"
          }
        }
      ]
    },
    {
      "cell_type": "code",
      "metadata": {
        "colab": {
          "base_uri": "https://localhost:8080/"
        },
        "id": "uyGtgexWpK3y",
        "outputId": "91684c3a-95d6-4a84-c17d-89898f7fab1d"
      },
      "source": [
        "\"\"\"\n",
        "Checking the dimensions of our network to make sure they all line up\n",
        "When generating a random tensor pytorch expects 4 dimensions an extra for\n",
        "the number of examples in the batch\n",
        "\"\"\"\n",
        "\n",
        "x = torch.rand(size=(64, 3, 32, 32))\n",
        "net = nn.Sequential(\n",
        "      nn.Conv2d(3, 64, kernel_size=3, stride=2, padding=1),\n",
        "      nn.ReLU(),\n",
        "      nn.MaxPool2d(kernel_size=2),\n",
        "      nn.Conv2d(64, 192, kernel_size=3, padding=1),\n",
        "      nn.ReLU(),\n",
        "      nn.MaxPool2d(kernel_size=2),\n",
        "      nn.Conv2d(192, 384, kernel_size=3, padding=1),\n",
        "      nn.ReLU(),\n",
        "      nn.Conv2d(384, 256, kernel_size=3, padding=1),\n",
        "      nn.ReLU(),\n",
        "      nn.Conv2d(256, 256, kernel_size=3, padding=1),\n",
        "      nn.ReLU(),\n",
        "      nn.MaxPool2d(kernel_size=2),\n",
        "      nn.Flatten(),\n",
        "      nn.Linear(in_features=256*2*2, out_features=4096),\n",
        "      nn.ReLU(),\n",
        "      nn.Dropout(p=0.5),\n",
        "      nn.Linear(in_features=4096, out_features=4096),\n",
        "      nn.ReLU(),\n",
        "      nn.Dropout(p=0.5),\n",
        "      nn.Linear(4096, 10)\n",
        "      )\n",
        "for layer in net:\n",
        "    x = layer(x)\n",
        "    print(layer.__class__.__name__, 'output shape:\\t', x.shape)"
      ],
      "execution_count": 26,
      "outputs": [
        {
          "output_type": "stream",
          "text": [
            "Conv2d output shape:\t torch.Size([64, 64, 16, 16])\n",
            "ReLU output shape:\t torch.Size([64, 64, 16, 16])\n",
            "MaxPool2d output shape:\t torch.Size([64, 64, 8, 8])\n",
            "Conv2d output shape:\t torch.Size([64, 192, 8, 8])\n",
            "ReLU output shape:\t torch.Size([64, 192, 8, 8])\n",
            "MaxPool2d output shape:\t torch.Size([64, 192, 4, 4])\n",
            "Conv2d output shape:\t torch.Size([64, 384, 4, 4])\n",
            "ReLU output shape:\t torch.Size([64, 384, 4, 4])\n",
            "Conv2d output shape:\t torch.Size([64, 256, 4, 4])\n",
            "ReLU output shape:\t torch.Size([64, 256, 4, 4])\n",
            "Conv2d output shape:\t torch.Size([64, 256, 4, 4])\n",
            "ReLU output shape:\t torch.Size([64, 256, 4, 4])\n",
            "MaxPool2d output shape:\t torch.Size([64, 256, 2, 2])\n",
            "Flatten output shape:\t torch.Size([64, 1024])\n",
            "Linear output shape:\t torch.Size([64, 4096])\n",
            "ReLU output shape:\t torch.Size([64, 4096])\n",
            "Dropout output shape:\t torch.Size([64, 4096])\n",
            "Linear output shape:\t torch.Size([64, 4096])\n",
            "ReLU output shape:\t torch.Size([64, 4096])\n",
            "Dropout output shape:\t torch.Size([64, 4096])\n",
            "Linear output shape:\t torch.Size([64, 10])\n"
          ],
          "name": "stdout"
        }
      ]
    },
    {
      "cell_type": "code",
      "metadata": {
        "id": "cySbEssNtPdk"
      },
      "source": [
        "class AlexNet(nn.Module):\n",
        "  \"\"\" Architecture inspired by AlexNet. Since I am not using the same dataset the \n",
        "  dimensions are a adjusted to fit the CIFAR-10 dataset. AlexNet was trained on \n",
        "  ImageNet which has images with dimensions 3x224x224. ImageNet is too big and I\n",
        "  didn't want to download it so I opted for CIFAR-10. I adjusted the kernel sizes\n",
        "  so that they would be able to detect features on these smaller images. There are\n",
        "  the same number of convolutional, max pooling, and fully connected layers in my\n",
        "  model as are in AlexNet. I was mostly just playing around trying to understand\n",
        "  CNNs and this important paper in the rise of deep learning.\n",
        "  \"\"\"\n",
        "  def __init__(self):\n",
        "    super(AlexNet, self).__init__()\n",
        "    self.net = nn.Sequential(\n",
        "      nn.Conv2d(3, 64, kernel_size=3, stride=2, padding=1),\n",
        "      nn.ReLU(),\n",
        "      nn.MaxPool2d(kernel_size=2),\n",
        "      nn.Conv2d(64, 192, kernel_size=3, padding=1),\n",
        "      nn.ReLU(),\n",
        "      nn.MaxPool2d(kernel_size=2),\n",
        "      nn.Conv2d(192, 384, kernel_size=3, padding=1),\n",
        "      nn.ReLU(),\n",
        "      nn.Conv2d(384, 256, kernel_size=3, padding=1),\n",
        "      nn.ReLU(),\n",
        "      nn.Conv2d(256, 256, kernel_size=3, padding=1),\n",
        "      nn.ReLU(),\n",
        "      nn.MaxPool2d(kernel_size=2),\n",
        "      nn.Flatten(),\n",
        "      nn.Linear(in_features=256*2*2, out_features=4096),\n",
        "      nn.ReLU(),\n",
        "      nn.Dropout(p=0.5),\n",
        "      nn.Linear(in_features=4096, out_features=4096),\n",
        "      nn.ReLU(),\n",
        "      nn.Dropout(p=0.5),\n",
        "      nn.Linear(4096, 10)\n",
        "      )\n",
        "    \n",
        "  def forward(self, x):\n",
        "    logits = self.net(x)\n",
        "    return logits"
      ],
      "execution_count": 27,
      "outputs": []
    },
    {
      "cell_type": "code",
      "metadata": {
        "colab": {
          "base_uri": "https://localhost:8080/"
        },
        "id": "eGWkClxNsNS_",
        "outputId": "51194362-ef75-4178-ed33-d31ce41bffd1"
      },
      "source": [
        "# Switching to GPU\n",
        "device = 'cuda' if torch.cuda.is_available() else 'cpu'\n",
        "print(\"Our device is {}\".format(device))"
      ],
      "execution_count": 28,
      "outputs": [
        {
          "output_type": "stream",
          "text": [
            "Our device is cuda\n"
          ],
          "name": "stdout"
        }
      ]
    },
    {
      "cell_type": "code",
      "metadata": {
        "id": "evCP9mVF0tJa"
      },
      "source": [
        "# Initializing hyper params\n",
        "learning_rate = 1e-3\n",
        "batch_size = 128\n",
        "num_epochs = 10"
      ],
      "execution_count": 29,
      "outputs": []
    },
    {
      "cell_type": "code",
      "metadata": {
        "id": "ECimWOwh1cGG"
      },
      "source": [
        "# Initializing model, objective, optim\n",
        "model = AlexNet()\n",
        "criterion = nn.CrossEntropyLoss()\n",
        "optimizer = torch.optim.Adam(model.parameters(), lr=learning_rate)"
      ],
      "execution_count": 30,
      "outputs": []
    },
    {
      "cell_type": "code",
      "metadata": {
        "id": "Biru8ino8bgp"
      },
      "source": [
        "# Track training loss, validation loss, accuracy\n",
        "training_loss = []\n",
        "validation_loss = []\n",
        "accuracy = []"
      ],
      "execution_count": 31,
      "outputs": []
    },
    {
      "cell_type": "code",
      "metadata": {
        "colab": {
          "base_uri": "https://localhost:8080/"
        },
        "id": "myM35kSS1sYu",
        "outputId": "b6a0d9f9-bdf3-40c8-9d33-2dcfde570bf5"
      },
      "source": [
        "for epoch in range(num_epochs):\n",
        "\n",
        "  # --- Train Model ---\n",
        "  for i, (X, y) in enumerate(train_loader):\n",
        "\n",
        "    size = len(train_loader.dataset)\n",
        "\n",
        "    # --- Compute the prediction and loss ---\n",
        "    pred = model(X)\n",
        "    loss = criterion(pred, y)\n",
        "\n",
        "    # --- Backpropigation ---\n",
        "    optimizer.zero_grad()\n",
        "    loss.backward()\n",
        "    optimizer.step()\n",
        "\n",
        "    training_loss.append(loss.item())\n",
        "\n",
        "    if i % 100 == 0:\n",
        "      loss, current = loss.item(), i * len(X)\n",
        "      print(f\"loss: {loss:>7f}  [{current:>5d}/{size:>5d}]\")\n",
        "\n",
        "  # --- Validate Model ---\n",
        "  with torch.no_grad():\n",
        "    size = len(test_loader.dataset)\n",
        "    avg_loss, avg_acc = 0, 0\n",
        "    for X, y in test_loader:\n",
        "      pred = model(X)\n",
        "      avg_loss += criterion(pred, y)\n",
        "      avg_acc += (pred.argmax(1) == y).type(torch.float).sum().item()\n",
        "\n",
        "    avg_loss /= size\n",
        "    avg_acc /= size\n",
        "\n",
        "    validation_loss.append(avg_loss)\n",
        "    accuracy.append(avg_acc)\n",
        "\n",
        "    print(f\"Test Error: \\n Accuracy: {(100*avg_acc):>0.1f}%, Avg loss: {avg_loss:>8f} \\n\")"
      ],
      "execution_count": 32,
      "outputs": [
        {
          "output_type": "stream",
          "text": [
            "loss: 2.301116  [    0/50000]\n",
            "loss: 1.739887  [12800/50000]\n",
            "loss: 1.541216  [25600/50000]\n",
            "loss: 1.450495  [38400/50000]\n",
            "Test Error: \n",
            " Accuracy: 50.5%, Avg loss: 0.010785 \n",
            "\n",
            "loss: 1.227066  [    0/50000]\n",
            "loss: 1.159503  [12800/50000]\n",
            "loss: 1.356567  [25600/50000]\n",
            "loss: 1.131483  [38400/50000]\n",
            "Test Error: \n",
            " Accuracy: 55.4%, Avg loss: 0.009987 \n",
            "\n",
            "loss: 1.046800  [    0/50000]\n",
            "loss: 1.158549  [12800/50000]\n",
            "loss: 0.784292  [25600/50000]\n",
            "loss: 0.915414  [38400/50000]\n",
            "Test Error: \n",
            " Accuracy: 64.5%, Avg loss: 0.008181 \n",
            "\n",
            "loss: 0.930641  [    0/50000]\n",
            "loss: 0.819792  [12800/50000]\n",
            "loss: 0.898989  [25600/50000]\n",
            "loss: 0.804299  [38400/50000]\n",
            "Test Error: \n",
            " Accuracy: 68.0%, Avg loss: 0.007385 \n",
            "\n",
            "loss: 0.763456  [    0/50000]\n",
            "loss: 0.688881  [12800/50000]\n",
            "loss: 0.614389  [25600/50000]\n",
            "loss: 0.883332  [38400/50000]\n",
            "Test Error: \n",
            " Accuracy: 69.6%, Avg loss: 0.006992 \n",
            "\n",
            "loss: 0.631103  [    0/50000]\n",
            "loss: 0.654461  [12800/50000]\n",
            "loss: 0.458413  [25600/50000]\n",
            "loss: 0.668734  [38400/50000]\n",
            "Test Error: \n",
            " Accuracy: 70.6%, Avg loss: 0.007058 \n",
            "\n",
            "loss: 0.522007  [    0/50000]\n",
            "loss: 0.630228  [12800/50000]\n",
            "loss: 0.558192  [25600/50000]\n",
            "loss: 0.667102  [38400/50000]\n",
            "Test Error: \n",
            " Accuracy: 71.1%, Avg loss: 0.007042 \n",
            "\n",
            "loss: 0.538611  [    0/50000]\n",
            "loss: 0.469835  [12800/50000]\n",
            "loss: 0.577790  [25600/50000]\n",
            "loss: 0.676249  [38400/50000]\n",
            "Test Error: \n",
            " Accuracy: 72.2%, Avg loss: 0.007142 \n",
            "\n",
            "loss: 0.302362  [    0/50000]\n",
            "loss: 0.334748  [12800/50000]\n",
            "loss: 0.395555  [25600/50000]\n",
            "loss: 0.521465  [38400/50000]\n",
            "Test Error: \n",
            " Accuracy: 71.6%, Avg loss: 0.007504 \n",
            "\n",
            "loss: 0.319495  [    0/50000]\n",
            "loss: 0.446116  [12800/50000]\n",
            "loss: 0.360631  [25600/50000]\n",
            "loss: 0.385682  [38400/50000]\n",
            "Test Error: \n",
            " Accuracy: 71.4%, Avg loss: 0.007960 \n",
            "\n"
          ],
          "name": "stdout"
        }
      ]
    },
    {
      "cell_type": "markdown",
      "metadata": {
        "id": "DKNTRGAZSdl_"
      },
      "source": [
        "At first I couldn't get the model to converge, but after increasing the batch size from 64 to 128 and switching the optimizer from torch.optim.SGD to Adam we got alright results. "
      ]
    },
    {
      "cell_type": "code",
      "metadata": {
        "colab": {
          "base_uri": "https://localhost:8080/"
        },
        "id": "vglMkhXV1w-u",
        "outputId": "c7ed42be-6374-45cf-cdc8-402c623b4fbd"
      },
      "source": [
        "num_correct = 0\n",
        "for i in range(len(test_data)):\n",
        "  X, y = test_data[i]\n",
        "  X = X.view(-1, 3, 32, 32)\n",
        "  pred = model(X)\n",
        "  num_correct += (pred.argmax(1) == y)\n",
        "\n",
        "print(\"accuracy: {}\".format((num_correct / len(test_data)).item()))"
      ],
      "execution_count": 33,
      "outputs": [
        {
          "output_type": "stream",
          "text": [
            "accuracy: 0.7139999866485596\n"
          ],
          "name": "stdout"
        }
      ]
    },
    {
      "cell_type": "code",
      "metadata": {
        "colab": {
          "base_uri": "https://localhost:8080/",
          "height": 279
        },
        "id": "XcXxy5TuTxxk",
        "outputId": "f4c2c316-8a84-42fb-8ed3-24a67632fba8"
      },
      "source": [
        "# Training loss\n",
        "plt.plot([i for i in range(len(training_loss))], training_loss, label=\"training loss\")\n",
        "plt.xlabel(\"iterations\")\n",
        "plt.ylabel(\"loss\")\n",
        "plt.show()"
      ],
      "execution_count": 42,
      "outputs": [
        {
          "output_type": "display_data",
          "data": {
            "image/png": "[encoded data removed]",
            "text/plain": [
              "<Figure size 432x288 with 1 Axes>"
            ]
          },
          "metadata": {
            "tags": [],
            "needs_background": "light"
          }
        }
      ]
    },
    {
      "cell_type": "code",
      "metadata": {
        "colab": {
          "base_uri": "https://localhost:8080/",
          "height": 279
        },
        "id": "9muPTNZsGE_g",
        "outputId": "63096260-6af4-4a32-d5b8-fbb0cecd77a2"
      },
      "source": [
        "# Validation loss\n",
        "plt.plot([i for i in range(len(validation_loss))], validation_loss, label=\"validation loss\")\n",
        "plt.xlabel(\"epochs\")\n",
        "plt.ylabel(\"loss\")\n",
        "plt.show()"
      ],
      "execution_count": 39,
      "outputs": [
        {
          "output_type": "display_data",
          "data": {
            "image/png": "[encoded data removed]",
            "text/plain": [
              "<Figure size 432x288 with 1 Axes>"
            ]
          },
          "metadata": {
            "tags": [],
            "needs_background": "light"
          }
        }
      ]
    },
    {
      "cell_type": "code",
      "metadata": {
        "colab": {
          "base_uri": "https://localhost:8080/",
          "height": 279
        },
        "id": "wOdeufT7TfzF",
        "outputId": "073d2a7a-fa91-4dfe-c1d2-226a82f56225"
      },
      "source": [
        "# Accuracy\n",
        "plt.plot([i for i in range(len(accuracy))], accuracy, label=\"accuracy\")\n",
        "plt.xlabel(\"epochs\")\n",
        "plt.ylabel(\"accuracy\")\n",
        "plt.show()"
      ],
      "execution_count": 41,
      "outputs": [
        {
          "output_type": "display_data",
          "data": {
            "image/png": "[encoded data removed]",
            "text/plain": [
              "<Figure size 432x288 with 1 Axes>"
            ]
          },
          "metadata": {
            "tags": [],
            "needs_background": "light"
          }
        }
      ]
    },
    {
      "cell_type": "code",
      "metadata": {
        "id": "uZInygPZUGsZ"
      },
      "source": [
        ""
      ],
      "execution_count": null,
      "outputs": []
    }
  ]
}