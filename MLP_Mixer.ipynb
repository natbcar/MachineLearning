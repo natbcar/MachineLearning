{
  "nbformat": 4,
  "nbformat_minor": 0,
  "metadata": {
    "colab": {
      "name": "MLP_Mixer.ipynb",
      "provenance": [],
      "collapsed_sections": [],
      "toc_visible": true,
      "authorship_tag": "ABX9TyOxgMu1Uk0ZQVZ/HuDNN5au",
      "include_colab_link": true
    },
    "kernelspec": {
      "name": "python3",
      "display_name": "Python 3"
    },
    "language_info": {
      "name": "python"
    },
    "accelerator": "GPU",
    "widgets": {
      "application/vnd.jupyter.widget-state+json": {
        "2a343b3ae5a048429f22eca3f99666c6": {
          "model_module": "@jupyter-widgets/controls",
          "model_name": "HBoxModel",
          "model_module_version": "1.5.0",
          "state": {
            "_view_name": "HBoxView",
            "_dom_classes": [],
            "_model_name": "HBoxModel",
            "_view_module": "@jupyter-widgets/controls",
            "_model_module_version": "1.5.0",
            "_view_count": null,
            "_view_module_version": "1.5.0",
            "box_style": "",
            "layout": "IPY_MODEL_e3ac445dcd2c462bb1dbadfd6d775276",
            "_model_module": "@jupyter-widgets/controls",
            "children": [
              "IPY_MODEL_18c4499524cf48c294306bcc32ad380f",
              "IPY_MODEL_15b92ad7ffcc4b55965ec7f2b1554b2d",
              "IPY_MODEL_3d83c6cfb01a48bea75bdd540d98eecd"
            ]
          }
        },
        "e3ac445dcd2c462bb1dbadfd6d775276": {
          "model_module": "@jupyter-widgets/base",
          "model_name": "LayoutModel",
          "model_module_version": "1.2.0",
          "state": {
            "_view_name": "LayoutView",
            "grid_template_rows": null,
            "right": null,
            "justify_content": null,
            "_view_module": "@jupyter-widgets/base",
            "overflow": null,
            "_model_module_version": "1.2.0",
            "_view_count": null,
            "flex_flow": null,
            "width": null,
            "min_width": null,
            "border": null,
            "align_items": null,
            "bottom": null,
            "_model_module": "@jupyter-widgets/base",
            "top": null,
            "grid_column": null,
            "overflow_y": null,
            "overflow_x": null,
            "grid_auto_flow": null,
            "grid_area": null,
            "grid_template_columns": null,
            "flex": null,
            "_model_name": "LayoutModel",
            "justify_items": null,
            "grid_row": null,
            "max_height": null,
            "align_content": null,
            "visibility": null,
            "align_self": null,
            "height": null,
            "min_height": null,
            "padding": null,
            "grid_auto_rows": null,
            "grid_gap": null,
            "max_width": null,
            "order": null,
            "_view_module_version": "1.2.0",
            "grid_template_areas": null,
            "object_position": null,
            "object_fit": null,
            "grid_auto_columns": null,
            "margin": null,
            "display": null,
            "left": null
          }
        },
        "18c4499524cf48c294306bcc32ad380f": {
          "model_module": "@jupyter-widgets/controls",
          "model_name": "HTMLModel",
          "model_module_version": "1.5.0",
          "state": {
            "_view_name": "HTMLView",
            "style": "IPY_MODEL_50c3a5a57e6b4ffabd8abb4b9e56b618",
            "_dom_classes": [],
            "description": "",
            "_model_name": "HTMLModel",
            "placeholder": "​",
            "_view_module": "@jupyter-widgets/controls",
            "_model_module_version": "1.5.0",
            "value": "",
            "_view_count": null,
            "_view_module_version": "1.5.0",
            "description_tooltip": null,
            "_model_module": "@jupyter-widgets/controls",
            "layout": "IPY_MODEL_e53261e9a6eb4b0b8f50f6432a8d7b10"
          }
        },
        "15b92ad7ffcc4b55965ec7f2b1554b2d": {
          "model_module": "@jupyter-widgets/controls",
          "model_name": "FloatProgressModel",
          "model_module_version": "1.5.0",
          "state": {
            "_view_name": "ProgressView",
            "style": "IPY_MODEL_74df5557d1754abbbbc498ae476cb0a0",
            "_dom_classes": [],
            "description": "",
            "_model_name": "FloatProgressModel",
            "bar_style": "success",
            "max": 2640397119,
            "_view_module": "@jupyter-widgets/controls",
            "_model_module_version": "1.5.0",
            "value": 2640397119,
            "_view_count": null,
            "_view_module_version": "1.5.0",
            "orientation": "horizontal",
            "min": 0,
            "description_tooltip": null,
            "_model_module": "@jupyter-widgets/controls",
            "layout": "IPY_MODEL_d8113719fb654fbfac37f8e390edba1e"
          }
        },
        "3d83c6cfb01a48bea75bdd540d98eecd": {
          "model_module": "@jupyter-widgets/controls",
          "model_name": "HTMLModel",
          "model_module_version": "1.5.0",
          "state": {
            "_view_name": "HTMLView",
            "style": "IPY_MODEL_d2cfecfc3ee84a50a0715aa97b9de900",
            "_dom_classes": [],
            "description": "",
            "_model_name": "HTMLModel",
            "placeholder": "​",
            "_view_module": "@jupyter-widgets/controls",
            "_model_module_version": "1.5.0",
            "value": " 2640397312/? [02:50&lt;00:00, 17711923.62it/s]",
            "_view_count": null,
            "_view_module_version": "1.5.0",
            "description_tooltip": null,
            "_model_module": "@jupyter-widgets/controls",
            "layout": "IPY_MODEL_bd624aa22e1d4219aa70bcbed91d55de"
          }
        },
        "50c3a5a57e6b4ffabd8abb4b9e56b618": {
          "model_module": "@jupyter-widgets/controls",
          "model_name": "DescriptionStyleModel",
          "model_module_version": "1.5.0",
          "state": {
            "_view_name": "StyleView",
            "_model_name": "DescriptionStyleModel",
            "description_width": "",
            "_view_module": "@jupyter-widgets/base",
            "_model_module_version": "1.5.0",
            "_view_count": null,
            "_view_module_version": "1.2.0",
            "_model_module": "@jupyter-widgets/controls"
          }
        },
        "e53261e9a6eb4b0b8f50f6432a8d7b10": {
          "model_module": "@jupyter-widgets/base",
          "model_name": "LayoutModel",
          "model_module_version": "1.2.0",
          "state": {
            "_view_name": "LayoutView",
            "grid_template_rows": null,
            "right": null,
            "justify_content": null,
            "_view_module": "@jupyter-widgets/base",
            "overflow": null,
            "_model_module_version": "1.2.0",
            "_view_count": null,
            "flex_flow": null,
            "width": null,
            "min_width": null,
            "border": null,
            "align_items": null,
            "bottom": null,
            "_model_module": "@jupyter-widgets/base",
            "top": null,
            "grid_column": null,
            "overflow_y": null,
            "overflow_x": null,
            "grid_auto_flow": null,
            "grid_area": null,
            "grid_template_columns": null,
            "flex": null,
            "_model_name": "LayoutModel",
            "justify_items": null,
            "grid_row": null,
            "max_height": null,
            "align_content": null,
            "visibility": null,
            "align_self": null,
            "height": null,
            "min_height": null,
            "padding": null,
            "grid_auto_rows": null,
            "grid_gap": null,
            "max_width": null,
            "order": null,
            "_view_module_version": "1.2.0",
            "grid_template_areas": null,
            "object_position": null,
            "object_fit": null,
            "grid_auto_columns": null,
            "margin": null,
            "display": null,
            "left": null
          }
        },
        "74df5557d1754abbbbc498ae476cb0a0": {
          "model_module": "@jupyter-widgets/controls",
          "model_name": "ProgressStyleModel",
          "model_module_version": "1.5.0",
          "state": {
            "_view_name": "StyleView",
            "_model_name": "ProgressStyleModel",
            "description_width": "",
            "_view_module": "@jupyter-widgets/base",
            "_model_module_version": "1.5.0",
            "_view_count": null,
            "_view_module_version": "1.2.0",
            "bar_color": null,
            "_model_module": "@jupyter-widgets/controls"
          }
        },
        "d8113719fb654fbfac37f8e390edba1e": {
          "model_module": "@jupyter-widgets/base",
          "model_name": "LayoutModel",
          "model_module_version": "1.2.0",
          "state": {
            "_view_name": "LayoutView",
            "grid_template_rows": null,
            "right": null,
            "justify_content": null,
            "_view_module": "@jupyter-widgets/base",
            "overflow": null,
            "_model_module_version": "1.2.0",
            "_view_count": null,
            "flex_flow": null,
            "width": null,
            "min_width": null,
            "border": null,
            "align_items": null,
            "bottom": null,
            "_model_module": "@jupyter-widgets/base",
            "top": null,
            "grid_column": null,
            "overflow_y": null,
            "overflow_x": null,
            "grid_auto_flow": null,
            "grid_area": null,
            "grid_template_columns": null,
            "flex": null,
            "_model_name": "LayoutModel",
            "justify_items": null,
            "grid_row": null,
            "max_height": null,
            "align_content": null,
            "visibility": null,
            "align_self": null,
            "height": null,
            "min_height": null,
            "padding": null,
            "grid_auto_rows": null,
            "grid_gap": null,
            "max_width": null,
            "order": null,
            "_view_module_version": "1.2.0",
            "grid_template_areas": null,
            "object_position": null,
            "object_fit": null,
            "grid_auto_columns": null,
            "margin": null,
            "display": null,
            "left": null
          }
        },
        "d2cfecfc3ee84a50a0715aa97b9de900": {
          "model_module": "@jupyter-widgets/controls",
          "model_name": "DescriptionStyleModel",
          "model_module_version": "1.5.0",
          "state": {
            "_view_name": "StyleView",
            "_model_name": "DescriptionStyleModel",
            "description_width": "",
            "_view_module": "@jupyter-widgets/base",
            "_model_module_version": "1.5.0",
            "_view_count": null,
            "_view_module_version": "1.2.0",
            "_model_module": "@jupyter-widgets/controls"
          }
        },
        "bd624aa22e1d4219aa70bcbed91d55de": {
          "model_module": "@jupyter-widgets/base",
          "model_name": "LayoutModel",
          "model_module_version": "1.2.0",
          "state": {
            "_view_name": "LayoutView",
            "grid_template_rows": null,
            "right": null,
            "justify_content": null,
            "_view_module": "@jupyter-widgets/base",
            "overflow": null,
            "_model_module_version": "1.2.0",
            "_view_count": null,
            "flex_flow": null,
            "width": null,
            "min_width": null,
            "border": null,
            "align_items": null,
            "bottom": null,
            "_model_module": "@jupyter-widgets/base",
            "top": null,
            "grid_column": null,
            "overflow_y": null,
            "overflow_x": null,
            "grid_auto_flow": null,
            "grid_area": null,
            "grid_template_columns": null,
            "flex": null,
            "_model_name": "LayoutModel",
            "justify_items": null,
            "grid_row": null,
            "max_height": null,
            "align_content": null,
            "visibility": null,
            "align_self": null,
            "height": null,
            "min_height": null,
            "padding": null,
            "grid_auto_rows": null,
            "grid_gap": null,
            "max_width": null,
            "order": null,
            "_view_module_version": "1.2.0",
            "grid_template_areas": null,
            "object_position": null,
            "object_fit": null,
            "grid_auto_columns": null,
            "margin": null,
            "display": null,
            "left": null
          }
        }
      }
    }
  },
  "cells": [
    {
      "cell_type": "markdown",
      "metadata": {
        "id": "view-in-github",
        "colab_type": "text"
      },
      "source": [
        "<a href=\"https://colab.research.google.com/github/natbcar/MachineLearning/blob/main/MLP_Mixer.ipynb\" target=\"_parent\"><img src=\"https://colab.research.google.com/assets/colab-badge.svg\" alt=\"Open In Colab\"/></a>"
      ]
    },
    {
      "cell_type": "markdown",
      "metadata": {
        "id": "u6wkclrIcDz5"
      },
      "source": [
        "# Imports"
      ]
    },
    {
      "cell_type": "code",
      "metadata": {
        "id": "VPYkEcS0ZxLo"
      },
      "source": [
        "import torch\n",
        "from torch import nn\n",
        "from torch.utils.data import Dataset\n",
        "from torch.utils.data import DataLoader\n",
        "from torchvision import datasets\n",
        "from torchvision import transforms\n",
        "\n",
        "from tqdm import tqdm, trange\n",
        "import matplotlib.pyplot as plt \n",
        "import numpy as np\n",
        "\n",
        "from PIL import Image"
      ],
      "execution_count": 57,
      "outputs": []
    },
    {
      "cell_type": "markdown",
      "metadata": {
        "id": "CIwGmSf-cJQl"
      },
      "source": [
        "# Model"
      ]
    },
    {
      "cell_type": "markdown",
      "metadata": {
        "id": "tw1NSZNyfBTo"
      },
      "source": [
        "## MLP Block"
      ]
    },
    {
      "cell_type": "code",
      "metadata": {
        "id": "CcbCbrDnfAPQ"
      },
      "source": [
        "class MLPBlock(nn.Module): \n",
        "  \"\"\"\n",
        "  MLP block to be used by the MixerLayer class.\n",
        "  \"\"\"\n",
        "  def __init__(self, in_dim, hidden_dim, out_dim):\n",
        "    super(MLPBlock, self).__init__()\n",
        "\n",
        "    self.linear1 = nn.Linear(in_dim, hidden_dim)  \n",
        "    self.gelu = nn.GELU()\n",
        "    self.linear2 = nn.Linear(hidden_dim, out_dim)\n",
        "\n",
        "  def forward(self, x):\n",
        "    x = self.linear1(x)\n",
        "    x = self.gelu(x)\n",
        "    return self.linear2(x)"
      ],
      "execution_count": 2,
      "outputs": []
    },
    {
      "cell_type": "markdown",
      "metadata": {
        "id": "oSoHLsorfNH0"
      },
      "source": [
        "## MixerLayer"
      ]
    },
    {
      "cell_type": "code",
      "metadata": {
        "id": "OT9OigEnbwRU"
      },
      "source": [
        "class MixerLayer(nn.Module):\n",
        "  \"\"\"\n",
        "  Class for a mixer layer as described in https://arxiv.org/pdf/2105.01601.pdf\n",
        "  Contains 2 MLP blocks, one for token mixing and one for channel mixing.\n",
        "\n",
        "  Applies layer normalization to the input of each MLP and skip connections to\n",
        "  their output.\n",
        "  \"\"\"\n",
        "  def __init__(self, hidden_dim, seq_len, token_hidden, channel_hidden):\n",
        "    super(MixerLayer, self).__init__()\n",
        "\n",
        "    self.layer_norm = nn.LayerNorm([seq_len, hidden_dim])\n",
        "\n",
        "    self.token_mixer = MLPBlock(seq_len, token_hidden, seq_len)\n",
        "    self.channel_mixer = MLPBlock(hidden_dim, channel_hidden, hidden_dim)\n",
        "\n",
        "  def forward(self, x):\n",
        "    #----- Token Mixing-------\n",
        "    x_ = x  # save for skip connection\n",
        "    x = self.layer_norm(x) # layer normalization\n",
        "    x = x.permute(0, 2, 1) # transpose input for mlp block\n",
        "    x = self.token_mixer(x)\n",
        "    x = x.permute(0, 2, 1) # convert back to original size\n",
        "    x = x + x_  # skip connection\n",
        "\n",
        "    #----- Channel Mixing------\n",
        "    x_ = x  # save for skip connection\n",
        "    x = self.layer_norm(x)  # layer normalization\n",
        "    x = self.channel_mixer(x)\n",
        "    x = x + x_  # skip connection\n",
        "\n",
        "    return x"
      ],
      "execution_count": 40,
      "outputs": []
    },
    {
      "cell_type": "markdown",
      "metadata": {
        "id": "o2MFxqQGfiqD"
      },
      "source": [
        "## MLP Mixer"
      ]
    },
    {
      "cell_type": "code",
      "metadata": {
        "id": "hR_bvQApflqP"
      },
      "source": [
        "class MLPMixer(nn.Module):\n",
        "  \"\"\"\n",
        "  Class for a MLP Mixer architecture described in https://arxiv.org/pdf/2105.01601.pdf.\n",
        "  The architecture has a number of different parameters.\n",
        "\n",
        "  num_classes (int): number of image classes in the dataset\n",
        "  num_layers (int): number of mixer layers\n",
        "  patch_res (int): patch resolution which is (p,p) always square\n",
        "  hidden_dim (int): hidden dim size that patches are projected into\n",
        "  seq_len (int): sequence length, i.e number of patches\n",
        "  token_hidden (int): hidden dim for token mixing MLP\n",
        "  channel_hidden (int): hidden dim for channel mixing MLP\n",
        "  \n",
        "  \"\"\"\n",
        "  def __init__(self, \n",
        "               num_classes,\n",
        "               in_channels=3, \n",
        "               num_layers=8, \n",
        "               patch_res=32, \n",
        "               hidden_dim=512,\n",
        "               seq_len=49,  \n",
        "               token_hidden=256, \n",
        "               channel_hidden=2048):\n",
        "    super(MLPMixer, self).__init__()\n",
        "    self.hidden_dim = hidden_dim\n",
        "\n",
        "    self.per_patch_fc = nn.Conv2d(in_channels=in_channels, out_channels=hidden_dim,\n",
        "                                  kernel_size=patch_res, stride=patch_res)\n",
        "    \n",
        "    mixer_layers = [MixerLayer(hidden_dim=hidden_dim, \n",
        "                         seq_len=seq_len, \n",
        "                         token_hidden=token_hidden,\n",
        "                         channel_hidden=channel_hidden) for _ in range(num_layers)]\n",
        "\n",
        "    self.mixer = nn.Sequential(*mixer_layers)\n",
        "    self.fc = nn.Linear(hidden_dim, num_classes)\n",
        "\n",
        "  def forward(self, x):\n",
        "    #==== Per-patch Fully-connected ====\n",
        "    batch_size, _, _ , _ = x.shape  # x has shape (batch_size, num_channels, h, w)\n",
        "    x = self.per_patch_fc(x)  # returns tensor of shape (batch_size, hidden_dim, sqrt(seq_len), sqrt(seq_len))\n",
        "    x = x.permute(0, 2, 3, 1) # permute to get shape (batch_size, sqrt(seq_len), sqrt(seq_len), hidden_dim)\n",
        "    # collapse the 1 and 2 dimensions to get shape (batch_size, seq_len, hidden_dim)\n",
        "    x = x.contiguous().view(batch_size, -1, self.hidden_dim)  \n",
        "\n",
        "    #==== Mixer Layers ====\n",
        "    x = self.mixer(x)\n",
        "\n",
        "    #==== Classifier ====\n",
        "    x = x.mean(dim=1) # global avg pooling to get tensor of shape (batch_size, hidden_dim)\n",
        "    x = self.fc(x)  # get logits\n",
        "\n",
        "    return x"
      ],
      "execution_count": 44,
      "outputs": []
    },
    {
      "cell_type": "markdown",
      "metadata": {
        "id": "ME3O6PEIffa_"
      },
      "source": [
        "# Training"
      ]
    },
    {
      "cell_type": "code",
      "metadata": {
        "id": "U2IuGpHS7Ju3"
      },
      "source": [
        "# image transforms\n",
        "transform = transforms.Compose([\n",
        "                                transforms.Resize(224),  # resize to (224,224)\n",
        "                                transforms.ToTensor(),   # convert to tensor\n",
        "                                transforms.Normalize((0.5, 0.5, 0.5), (0.5, 0.5, 0.5)) # normalize\n",
        "                                ])"
      ],
      "execution_count": 50,
      "outputs": []
    },
    {
      "cell_type": "code",
      "metadata": {
        "colab": {
          "base_uri": "https://localhost:8080/",
          "height": 100,
          "referenced_widgets": [
            "2a343b3ae5a048429f22eca3f99666c6",
            "e3ac445dcd2c462bb1dbadfd6d775276",
            "18c4499524cf48c294306bcc32ad380f",
            "15b92ad7ffcc4b55965ec7f2b1554b2d",
            "3d83c6cfb01a48bea75bdd540d98eecd",
            "50c3a5a57e6b4ffabd8abb4b9e56b618",
            "e53261e9a6eb4b0b8f50f6432a8d7b10",
            "74df5557d1754abbbbc498ae476cb0a0",
            "d8113719fb654fbfac37f8e390edba1e",
            "d2cfecfc3ee84a50a0715aa97b9de900",
            "bd624aa22e1d4219aa70bcbed91d55de"
          ]
        },
        "id": "sBWsIYZife1o",
        "outputId": "371894a7-8aa5-4765-c16c-a1c1e0327eba"
      },
      "source": [
        "train = datasets.STL10(root='./', split='train', transform=transform, download=True)\n",
        "test = datasets.STL10(root='./', split='test', transform=transform, download=True)"
      ],
      "execution_count": 51,
      "outputs": [
        {
          "output_type": "stream",
          "text": [
            "Downloading http://ai.stanford.edu/~acoates/stl10/stl10_binary.tar.gz to ./stl10_binary.tar.gz\n"
          ],
          "name": "stdout"
        },
        {
          "output_type": "display_data",
          "data": {
            "application/vnd.jupyter.widget-view+json": {
              "model_id": "2a343b3ae5a048429f22eca3f99666c6",
              "version_minor": 0,
              "version_major": 2
            },
            "text/plain": [
              "  0%|          | 0/2640397119 [00:00<?, ?it/s]"
            ]
          },
          "metadata": {}
        },
        {
          "output_type": "stream",
          "text": [
            "Extracting ./stl10_binary.tar.gz to ./\n",
            "Files already downloaded and verified\n"
          ],
          "name": "stdout"
        }
      ]
    },
    {
      "cell_type": "code",
      "metadata": {
        "id": "nlzD2qB-9wfV"
      },
      "source": [
        "batch_size = 64\n",
        "num_epochs = 25"
      ],
      "execution_count": 80,
      "outputs": []
    },
    {
      "cell_type": "code",
      "metadata": {
        "id": "X0b1sqmA-W6O"
      },
      "source": [
        "mlp_mixer = MLPMixer(10).cuda()  # stl10 has 10 classes\n",
        "loss_fn = nn.CrossEntropyLoss().cuda()\n",
        "optim = torch.optim.Adam(params=mlp_mixer.parameters())"
      ],
      "execution_count": 91,
      "outputs": []
    },
    {
      "cell_type": "code",
      "metadata": {
        "id": "40CzLq789kSH"
      },
      "source": [
        "train_loader = DataLoader(dataset=train, batch_size=batch_size, shuffle=True)\n",
        "test_loader = DataLoader(dataset=test, batch_size=batch_size, shuffle=True)"
      ],
      "execution_count": 92,
      "outputs": []
    },
    {
      "cell_type": "code",
      "metadata": {
        "id": "Ir_JhhOWC3fS"
      },
      "source": [
        "training_loss = []\n",
        "training_accuracy = []\n",
        "validation_loss = []\n",
        "validation_accuracy = []"
      ],
      "execution_count": 93,
      "outputs": []
    },
    {
      "cell_type": "code",
      "metadata": {
        "colab": {
          "base_uri": "https://localhost:8080/"
        },
        "id": "1sDwoFhhfqHg",
        "outputId": "ce8883e3-48a2-4333-81c4-394718bafae2"
      },
      "source": [
        "for epoch in range(num_epochs):\n",
        "  mlp_mixer.train()\n",
        "  with tqdm(train_loader, unit=\"batch\") as tepoch:\n",
        "    for X, y in tepoch:\n",
        "      tepoch.set_description(f\"Epoch {epoch}\")\n",
        "\n",
        "      #=== Forward Pass ===\n",
        "      X, y = X.cuda(), y.cuda() \n",
        "      pred_y = mlp_mixer(X) \n",
        "      loss = loss_fn(pred_y, y) \n",
        "      training_loss.append(loss.item())\n",
        "\n",
        "      #=== Backprop ===\n",
        "      optim.zero_grad()\n",
        "      loss.backward()\n",
        "      optim.step()\n",
        "\n",
        "      # update progress bar\n",
        "      pred_y = pred_y.argmax(dim=1, keepdim=True).squeeze()\n",
        "      accuracy = (pred_y == y).sum().item() / len(X)\n",
        "      training_accuracy.append(accuracy)\n",
        "      tepoch.set_postfix(loss=loss.item(), accuracy=100 * accuracy)\n",
        "\n",
        "  #=== Validation ===\n",
        "  with torch.no_grad():\n",
        "    mlp_mixer.eval()\n",
        "    size = len(test_loader.dataset)\n",
        "    avg_loss, avg_acc = 0, 0\n",
        "    for X, y in test_loader:\n",
        "      X, y = X.cuda(), y.cuda()\n",
        "      pred_y = mlp_mixer(X)\n",
        "      avg_loss += loss_fn(pred_y, y).item()\n",
        "      avg_acc += (pred_y.argmax(1) == y).sum().item()\n",
        "\n",
        "    avg_loss /= size\n",
        "    avg_acc /= size\n",
        "\n",
        "    validation_loss.append(avg_loss)\n",
        "    validation_accuracy.append(avg_acc)"
      ],
      "execution_count": 94,
      "outputs": [
        {
          "output_type": "stream",
          "text": [
            "Epoch 0: 100%|██████████| 79/79 [00:35<00:00,  2.24batch/s, accuracy=37.5, loss=1.75]\n",
            "Epoch 1: 100%|██████████| 79/79 [00:35<00:00,  2.24batch/s, accuracy=50, loss=1.76]\n",
            "Epoch 2: 100%|██████████| 79/79 [00:35<00:00,  2.23batch/s, accuracy=37.5, loss=1.35]\n",
            "Epoch 3: 100%|██████████| 79/79 [00:35<00:00,  2.23batch/s, accuracy=25, loss=1.49]\n",
            "Epoch 4: 100%|██████████| 79/79 [00:35<00:00,  2.23batch/s, accuracy=50, loss=1.13]\n",
            "Epoch 5: 100%|██████████| 79/79 [00:35<00:00,  2.23batch/s, accuracy=50, loss=1.53]\n",
            "Epoch 6: 100%|██████████| 79/79 [00:35<00:00,  2.23batch/s, accuracy=62.5, loss=0.893]\n",
            "Epoch 7: 100%|██████████| 79/79 [00:35<00:00,  2.24batch/s, accuracy=12.5, loss=1.93]\n",
            "Epoch 8: 100%|██████████| 79/79 [00:35<00:00,  2.24batch/s, accuracy=75, loss=0.818]\n",
            "Epoch 9: 100%|██████████| 79/79 [00:35<00:00,  2.24batch/s, accuracy=37.5, loss=1.23]\n",
            "Epoch 10: 100%|██████████| 79/79 [00:35<00:00,  2.23batch/s, accuracy=75, loss=0.543]\n",
            "Epoch 11: 100%|██████████| 79/79 [00:35<00:00,  2.24batch/s, accuracy=75, loss=0.548]\n",
            "Epoch 12: 100%|██████████| 79/79 [00:35<00:00,  2.24batch/s, accuracy=75, loss=0.583]\n",
            "Epoch 13: 100%|██████████| 79/79 [00:35<00:00,  2.23batch/s, accuracy=87.5, loss=0.536]\n",
            "Epoch 14: 100%|██████████| 79/79 [00:35<00:00,  2.24batch/s, accuracy=75, loss=0.5]\n",
            "Epoch 15: 100%|██████████| 79/79 [00:35<00:00,  2.23batch/s, accuracy=100, loss=0.0293]\n",
            "Epoch 16: 100%|██████████| 79/79 [00:35<00:00,  2.22batch/s, accuracy=100, loss=0.0547]\n",
            "Epoch 17: 100%|██████████| 79/79 [00:35<00:00,  2.24batch/s, accuracy=100, loss=0.0519]\n",
            "Epoch 18: 100%|██████████| 79/79 [00:35<00:00,  2.23batch/s, accuracy=100, loss=0.00578]\n",
            "Epoch 19: 100%|██████████| 79/79 [00:35<00:00,  2.24batch/s, accuracy=87.5, loss=0.768]\n",
            "Epoch 20: 100%|██████████| 79/79 [00:35<00:00,  2.24batch/s, accuracy=100, loss=0.0182]\n",
            "Epoch 21: 100%|██████████| 79/79 [00:35<00:00,  2.23batch/s, accuracy=100, loss=0.0418]\n",
            "Epoch 22: 100%|██████████| 79/79 [00:35<00:00,  2.24batch/s, accuracy=100, loss=0.00628]\n",
            "Epoch 23: 100%|██████████| 79/79 [00:35<00:00,  2.24batch/s, accuracy=100, loss=0.00519]\n",
            "Epoch 24: 100%|██████████| 79/79 [00:35<00:00,  2.24batch/s, accuracy=100, loss=0.000375]\n"
          ],
          "name": "stderr"
        }
      ]
    },
    {
      "cell_type": "code",
      "metadata": {
        "colab": {
          "base_uri": "https://localhost:8080/",
          "height": 295
        },
        "id": "n0drGWloBx01",
        "outputId": "4b52cc8f-f9a1-4971-80d7-ab7062f392b4"
      },
      "source": [
        "plt.plot([i for i in range(len(training_loss))], training_loss)\n",
        "plt.xlabel('iteration')\n",
        "plt.ylabel('loss')\n",
        "plt.title('Training Loss')\n",
        "plt.show()"
      ],
      "execution_count": 95,
      "outputs": [
        {
          "output_type": "display_data",
          "data": {
            "image/png": "[encoded data removed]",
            "text/plain": [
              "<Figure size 432x288 with 1 Axes>"
            ]
          },
          "metadata": {
            "needs_background": "light"
          }
        }
      ]
    },
    {
      "cell_type": "code",
      "metadata": {
        "colab": {
          "base_uri": "https://localhost:8080/",
          "height": 295
        },
        "id": "R0AsYXLMHG7B",
        "outputId": "43748dec-8c28-440d-d6af-3212b102c862"
      },
      "source": [
        "plt.plot([i for i in range(len(validation_loss))], validation_loss)\n",
        "plt.xlabel('epoch')\n",
        "plt.ylabel('loss')\n",
        "plt.title('Validation Loss')\n",
        "plt.show()"
      ],
      "execution_count": 96,
      "outputs": [
        {
          "output_type": "display_data",
          "data": {
            "image/png": "[encoded data removed]",
            "text/plain": [
              "<Figure size 432x288 with 1 Axes>"
            ]
          },
          "metadata": {
            "needs_background": "light"
          }
        }
      ]
    },
    {
      "cell_type": "code",
      "metadata": {
        "colab": {
          "base_uri": "https://localhost:8080/",
          "height": 295
        },
        "id": "nXpH8-eqVTXf",
        "outputId": "6f3d1fb4-1a1a-416b-dfd6-28729d5048de"
      },
      "source": [
        "plt.plot([i for i in range(len(training_accuracy))], training_accuracy)\n",
        "plt.xlabel('epoch')\n",
        "plt.ylabel('accuracy')\n",
        "plt.title('Training Accuracy')\n",
        "plt.show()"
      ],
      "execution_count": 98,
      "outputs": [
        {
          "output_type": "display_data",
          "data": {
            "image/png": "[encoded data removed]",
            "text/plain": [
              "<Figure size 432x288 with 1 Axes>"
            ]
          },
          "metadata": {
            "needs_background": "light"
          }
        }
      ]
    },
    {
      "cell_type": "code",
      "metadata": {
        "colab": {
          "base_uri": "https://localhost:8080/",
          "height": 295
        },
        "id": "HNG_p4a4HQbW",
        "outputId": "82bc83dc-c2a8-4613-b4ff-6c575e798076"
      },
      "source": [
        "plt.plot([i for i in range(len(validation_accuracy))], validation_accuracy)\n",
        "plt.xlabel('epoch')\n",
        "plt.ylabel('accuracy')\n",
        "plt.title('Validation Accuracy')\n",
        "plt.show()"
      ],
      "execution_count": 97,
      "outputs": [
        {
          "output_type": "display_data",
          "data": {
            "image/png": "[encoded data removed]",
            "text/plain": [
              "<Figure size 432x288 with 1 Axes>"
            ]
          },
          "metadata": {
            "needs_background": "light"
          }
        }
      ]
    },
    {
      "cell_type": "code",
      "metadata": {
        "colab": {
          "base_uri": "https://localhost:8080/"
        },
        "id": "ASRBi31RHT5M",
        "outputId": "17bd4e2f-c4e0-4f09-d2c2-c344008fc45c"
      },
      "source": [
        "# compute accuracy\n",
        "mlp_mixer.eval()\n",
        "with torch.no_grad():\n",
        "  num_correct = 0\n",
        "  for X, y in test_loader:\n",
        "    X, y = X.cuda(), y.cuda()\n",
        "    y_pred = mlp_mixer(X)\n",
        "    num_correct += (y_pred.argmax(1) == y).sum().item()\n",
        "\n",
        "  accuracy = num_correct / len(test_loader.dataset)\n",
        "\n",
        "print(f\"Accuracy: {accuracy * 100}\")"
      ],
      "execution_count": 106,
      "outputs": [
        {
          "output_type": "stream",
          "text": [
            "Accuracy: 51.87500000000001\n"
          ],
          "name": "stdout"
        }
      ]
    },
    {
      "cell_type": "code",
      "metadata": {
        "id": "msDZf_q3Xxwk"
      },
      "source": [
        ""
      ],
      "execution_count": null,
      "outputs": []
    }
  ]
}