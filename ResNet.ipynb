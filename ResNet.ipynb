{
  "nbformat": 4,
  "nbformat_minor": 0,
  "metadata": {
    "colab": {
      "name": "ResNet.ipynb",
      "provenance": [],
      "collapsed_sections": [],
      "authorship_tag": "ABX9TyNFVP8ogLiX/Tg6kDb9yoZp",
      "include_colab_link": true
    },
    "kernelspec": {
      "name": "python3",
      "display_name": "Python 3"
    },
    "language_info": {
      "name": "python"
    },
    "accelerator": "GPU",
    "widgets": {
      "application/vnd.jupyter.widget-state+json": {
        "c0bbabb79bf34d79835de9e5c2926fcb": {
          "model_module": "@jupyter-widgets/controls",
          "model_name": "HBoxModel",
          "state": {
            "_view_name": "HBoxView",
            "_dom_classes": [],
            "_model_name": "HBoxModel",
            "_view_module": "@jupyter-widgets/controls",
            "_model_module_version": "1.5.0",
            "_view_count": null,
            "_view_module_version": "1.5.0",
            "box_style": "",
            "layout": "IPY_MODEL_8d693f5bb3a54e7c9ff4dfe688eaf9af",
            "_model_module": "@jupyter-widgets/controls",
            "children": [
              "IPY_MODEL_97fe5a92601b4d06b2be708d342fe934",
              "IPY_MODEL_e837d88a498c4d38ad61cd72cff4b63a"
            ]
          }
        },
        "8d693f5bb3a54e7c9ff4dfe688eaf9af": {
          "model_module": "@jupyter-widgets/base",
          "model_name": "LayoutModel",
          "state": {
            "_view_name": "LayoutView",
            "grid_template_rows": null,
            "right": null,
            "justify_content": null,
            "_view_module": "@jupyter-widgets/base",
            "overflow": null,
            "_model_module_version": "1.2.0",
            "_view_count": null,
            "flex_flow": null,
            "width": null,
            "min_width": null,
            "border": null,
            "align_items": null,
            "bottom": null,
            "_model_module": "@jupyter-widgets/base",
            "top": null,
            "grid_column": null,
            "overflow_y": null,
            "overflow_x": null,
            "grid_auto_flow": null,
            "grid_area": null,
            "grid_template_columns": null,
            "flex": null,
            "_model_name": "LayoutModel",
            "justify_items": null,
            "grid_row": null,
            "max_height": null,
            "align_content": null,
            "visibility": null,
            "align_self": null,
            "height": null,
            "min_height": null,
            "padding": null,
            "grid_auto_rows": null,
            "grid_gap": null,
            "max_width": null,
            "order": null,
            "_view_module_version": "1.2.0",
            "grid_template_areas": null,
            "object_position": null,
            "object_fit": null,
            "grid_auto_columns": null,
            "margin": null,
            "display": null,
            "left": null
          }
        },
        "97fe5a92601b4d06b2be708d342fe934": {
          "model_module": "@jupyter-widgets/controls",
          "model_name": "FloatProgressModel",
          "state": {
            "_view_name": "ProgressView",
            "style": "IPY_MODEL_a1627266e9d24917a95ac119dc9ef9f4",
            "_dom_classes": [],
            "description": "",
            "_model_name": "FloatProgressModel",
            "bar_style": "success",
            "max": 170498071,
            "_view_module": "@jupyter-widgets/controls",
            "_model_module_version": "1.5.0",
            "value": 170498071,
            "_view_count": null,
            "_view_module_version": "1.5.0",
            "orientation": "horizontal",
            "min": 0,
            "description_tooltip": null,
            "_model_module": "@jupyter-widgets/controls",
            "layout": "IPY_MODEL_99752a9fa06b44a68f227bd5f8b304bf"
          }
        },
        "e837d88a498c4d38ad61cd72cff4b63a": {
          "model_module": "@jupyter-widgets/controls",
          "model_name": "HTMLModel",
          "state": {
            "_view_name": "HTMLView",
            "style": "IPY_MODEL_7c4ca76713b14ed5b56dbcfc02549ccc",
            "_dom_classes": [],
            "description": "",
            "_model_name": "HTMLModel",
            "placeholder": "​",
            "_view_module": "@jupyter-widgets/controls",
            "_model_module_version": "1.5.0",
            "value": " 170499072/? [00:36&lt;00:00, 4617165.79it/s]",
            "_view_count": null,
            "_view_module_version": "1.5.0",
            "description_tooltip": null,
            "_model_module": "@jupyter-widgets/controls",
            "layout": "IPY_MODEL_4067123bc0504ef591f4023c71790efb"
          }
        },
        "a1627266e9d24917a95ac119dc9ef9f4": {
          "model_module": "@jupyter-widgets/controls",
          "model_name": "ProgressStyleModel",
          "state": {
            "_view_name": "StyleView",
            "_model_name": "ProgressStyleModel",
            "description_width": "initial",
            "_view_module": "@jupyter-widgets/base",
            "_model_module_version": "1.5.0",
            "_view_count": null,
            "_view_module_version": "1.2.0",
            "bar_color": null,
            "_model_module": "@jupyter-widgets/controls"
          }
        },
        "99752a9fa06b44a68f227bd5f8b304bf": {
          "model_module": "@jupyter-widgets/base",
          "model_name": "LayoutModel",
          "state": {
            "_view_name": "LayoutView",
            "grid_template_rows": null,
            "right": null,
            "justify_content": null,
            "_view_module": "@jupyter-widgets/base",
            "overflow": null,
            "_model_module_version": "1.2.0",
            "_view_count": null,
            "flex_flow": null,
            "width": null,
            "min_width": null,
            "border": null,
            "align_items": null,
            "bottom": null,
            "_model_module": "@jupyter-widgets/base",
            "top": null,
            "grid_column": null,
            "overflow_y": null,
            "overflow_x": null,
            "grid_auto_flow": null,
            "grid_area": null,
            "grid_template_columns": null,
            "flex": null,
            "_model_name": "LayoutModel",
            "justify_items": null,
            "grid_row": null,
            "max_height": null,
            "align_content": null,
            "visibility": null,
            "align_self": null,
            "height": null,
            "min_height": null,
            "padding": null,
            "grid_auto_rows": null,
            "grid_gap": null,
            "max_width": null,
            "order": null,
            "_view_module_version": "1.2.0",
            "grid_template_areas": null,
            "object_position": null,
            "object_fit": null,
            "grid_auto_columns": null,
            "margin": null,
            "display": null,
            "left": null
          }
        },
        "7c4ca76713b14ed5b56dbcfc02549ccc": {
          "model_module": "@jupyter-widgets/controls",
          "model_name": "DescriptionStyleModel",
          "state": {
            "_view_name": "StyleView",
            "_model_name": "DescriptionStyleModel",
            "description_width": "",
            "_view_module": "@jupyter-widgets/base",
            "_model_module_version": "1.5.0",
            "_view_count": null,
            "_view_module_version": "1.2.0",
            "_model_module": "@jupyter-widgets/controls"
          }
        },
        "4067123bc0504ef591f4023c71790efb": {
          "model_module": "@jupyter-widgets/base",
          "model_name": "LayoutModel",
          "state": {
            "_view_name": "LayoutView",
            "grid_template_rows": null,
            "right": null,
            "justify_content": null,
            "_view_module": "@jupyter-widgets/base",
            "overflow": null,
            "_model_module_version": "1.2.0",
            "_view_count": null,
            "flex_flow": null,
            "width": null,
            "min_width": null,
            "border": null,
            "align_items": null,
            "bottom": null,
            "_model_module": "@jupyter-widgets/base",
            "top": null,
            "grid_column": null,
            "overflow_y": null,
            "overflow_x": null,
            "grid_auto_flow": null,
            "grid_area": null,
            "grid_template_columns": null,
            "flex": null,
            "_model_name": "LayoutModel",
            "justify_items": null,
            "grid_row": null,
            "max_height": null,
            "align_content": null,
            "visibility": null,
            "align_self": null,
            "height": null,
            "min_height": null,
            "padding": null,
            "grid_auto_rows": null,
            "grid_gap": null,
            "max_width": null,
            "order": null,
            "_view_module_version": "1.2.0",
            "grid_template_areas": null,
            "object_position": null,
            "object_fit": null,
            "grid_auto_columns": null,
            "margin": null,
            "display": null,
            "left": null
          }
        }
      }
    }
  },
  "cells": [
    {
      "cell_type": "markdown",
      "metadata": {
        "id": "view-in-github",
        "colab_type": "text"
      },
      "source": [
        "<a href=\"https://colab.research.google.com/github/natbcar/MachineLearning/blob/main/ResNet.ipynb\" target=\"_parent\"><img src=\"https://colab.research.google.com/assets/colab-badge.svg\" alt=\"Open In Colab\"/></a>"
      ]
    },
    {
      "cell_type": "code",
      "metadata": {
        "id": "QD5RefItIGrq"
      },
      "source": [
        "import torch\n",
        "from torch import nn\n",
        "from torch.nn import functional as F\n",
        "from torch.utils.data import Dataset\n",
        "from torch.utils.data import DataLoader\n",
        "from torchvision import datasets\n",
        "from torchvision import transforms \n",
        "from torchvision.transforms import ToTensor, Lambda\n",
        "import matplotlib.pyplot as plt "
      ],
      "execution_count": 1,
      "outputs": []
    },
    {
      "cell_type": "code",
      "metadata": {
        "colab": {
          "base_uri": "https://localhost:8080/"
        },
        "id": "7qyRlu8lgcRc",
        "outputId": "03807414-f558-403f-8f89-1a2b733c6f8d"
      },
      "source": [
        "# Switching to GPU\n",
        "device = 'cuda' if torch.cuda.is_available() else 'cpu'\n",
        "print(\"Our device is {}\".format(device))"
      ],
      "execution_count": 2,
      "outputs": [
        {
          "output_type": "stream",
          "text": [
            "Our device is cuda\n"
          ],
          "name": "stdout"
        }
      ]
    },
    {
      "cell_type": "code",
      "metadata": {
        "colab": {
          "base_uri": "https://localhost:8080/",
          "height": 117,
          "referenced_widgets": [
            "c0bbabb79bf34d79835de9e5c2926fcb",
            "8d693f5bb3a54e7c9ff4dfe688eaf9af",
            "97fe5a92601b4d06b2be708d342fe934",
            "e837d88a498c4d38ad61cd72cff4b63a",
            "a1627266e9d24917a95ac119dc9ef9f4",
            "99752a9fa06b44a68f227bd5f8b304bf",
            "7c4ca76713b14ed5b56dbcfc02549ccc",
            "4067123bc0504ef591f4023c71790efb"
          ]
        },
        "id": "fuktOeI9JSN9",
        "outputId": "dc2b5f1c-6422-478d-8629-904a5b30bb61"
      },
      "source": [
        "# transform images to tensor and resize to 224x224\n",
        "transform = transforms.Compose([\n",
        "    transforms.ToTensor(),\n",
        "    transforms.Resize(256),\n",
        "    transforms.CenterCrop(224),\n",
        "    transforms.Normalize(mean=[0.485, 0.456, 0.406], std=[0.229, 0.224, 0.225])\n",
        "])\n",
        "\n",
        "# Loading in the CIFAR10 datasets\n",
        "training_data = datasets.CIFAR10(\n",
        "    root=\"data\",\n",
        "    train=True,\n",
        "    download=True,\n",
        "    transform=transform\n",
        ")\n",
        "\n",
        "test_data = datasets.CIFAR10(\n",
        "    root=\"data\",\n",
        "    train=False,\n",
        "    download=True,\n",
        "    transform=transform\n",
        ")"
      ],
      "execution_count": 3,
      "outputs": [
        {
          "output_type": "stream",
          "text": [
            "Downloading https://www.cs.toronto.edu/~kriz/cifar-10-python.tar.gz to data/cifar-10-python.tar.gz\n"
          ],
          "name": "stdout"
        },
        {
          "output_type": "display_data",
          "data": {
            "application/vnd.jupyter.widget-view+json": {
              "model_id": "c0bbabb79bf34d79835de9e5c2926fcb",
              "version_minor": 0,
              "version_major": 2
            },
            "text/plain": [
              "HBox(children=(FloatProgress(value=0.0, max=170498071.0), HTML(value='')))"
            ]
          },
          "metadata": {
            "tags": []
          }
        },
        {
          "output_type": "stream",
          "text": [
            "\n",
            "Extracting data/cifar-10-python.tar.gz to data\n",
            "Files already downloaded and verified\n"
          ],
          "name": "stdout"
        }
      ]
    },
    {
      "cell_type": "code",
      "metadata": {
        "id": "K1PwaH3SIMWa"
      },
      "source": [
        "class ResNetBlock(nn.Module):\n",
        "  def __init__(self, num_convs, in_channels, out_channels, increase_channels, stride):\n",
        "    super(ResNetBlock, self).__init__()\n",
        "\n",
        "    # if we need to increase the channels then create a 1x1 convolution to pass \n",
        "    # the input through\n",
        "    if increase_channels:\n",
        "      self.increase_channels = nn.Conv2d(in_channels=in_channels, \n",
        "                                 out_channels=out_channels,\n",
        "                                 stride=stride, \n",
        "                                 kernel_size=1)\n",
        "    else:\n",
        "      self.increase_channels = None\n",
        "\n",
        "    layers = []\n",
        "    for i in range(num_convs):\n",
        "      # conv layer\n",
        "      layers.append(nn.Conv2d(in_channels=in_channels, \n",
        "                              out_channels=out_channels, \n",
        "                              kernel_size=3,\n",
        "                              stride=stride,\n",
        "                              padding=1))\n",
        "      \n",
        "      # add a batch norm layer to prevent over fitting\n",
        "      layers.append(nn.BatchNorm2d(num_features=out_channels))\n",
        "\n",
        "      # update in channels since num_channels stays the same through the block\n",
        "      # once the dimension has been increased\n",
        "      in_channels=out_channels\n",
        "\n",
        "      # set stride to 1 so the shape won't be halved again\n",
        "      stride=1\n",
        "\n",
        "      # if we aren't at the last conv layer then add a relu activation to the list\n",
        "      if i < (num_convs - 1):\n",
        "        layers.append(nn.ReLU())\n",
        "\n",
        "    # unpack the layers into nn.Sequential\n",
        "    self.layers = nn.Sequential(*layers)\n",
        "    self.ReLU = nn.ReLU()\n",
        "\n",
        "  def forward(self, x):\n",
        "    # pass the input through the conv layers\n",
        "    f_x = self.layers(x)\n",
        "\n",
        "    # adjust the size of the input if necessary\n",
        "    if self.increase_channels:\n",
        "      x = self.increase_channels(x)\n",
        "\n",
        "    # add the input to output of conv layers and pass through relu\n",
        "    return self.ReLU(f_x + x)"
      ],
      "execution_count": 4,
      "outputs": []
    },
    {
      "cell_type": "code",
      "metadata": {
        "id": "oIkUlqF_arPM"
      },
      "source": [
        "def build_block(num_residuals, in_channels, out_channels, up_sample=True):\n",
        "  \"\"\"\n",
        "  function to build a ResNet block \n",
        "  \"\"\"\n",
        "  block = []\n",
        "  for i in range(num_residuals):\n",
        "    if i == 0 and up_sample:\n",
        "      block.append(ResNetBlock(num_convs=2, in_channels=in_channels, out_channels=out_channels, increase_channels=True, stride=2))\n",
        "    else:\n",
        "      block.append(ResNetBlock(num_convs=2, in_channels=out_channels, out_channels=out_channels, increase_channels=False, stride=1))\n",
        "  return block"
      ],
      "execution_count": 5,
      "outputs": []
    },
    {
      "cell_type": "code",
      "metadata": {
        "id": "r3EwnoMeKSDh"
      },
      "source": [
        "class ResNet18(nn.Module):\n",
        "  def __init__(self):\n",
        "    super(ResNet18, self).__init__()\n",
        "\n",
        "    self.resnet = nn.Sequential(\n",
        "        # -- first conv layer --\n",
        "        # 7x7 kernel, stride 2, 64 out channels, 112x112 output size\n",
        "        # batchnormalization layer added before activation\n",
        "        # zero padding of 3 is used to keep dimensions correct\n",
        "        nn.Conv2d(in_channels=3, out_channels=64, kernel_size=7, stride=2, padding=3),\n",
        "        nn.BatchNorm2d(num_features=64),\n",
        "        nn.ReLU(),\n",
        "\n",
        "        # -- maxpool layer --\n",
        "        # 3x3 kernel and stride 2, zero padding is used to keep the \n",
        "        # output size in accordance with the architecture in the paper\n",
        "        nn.MaxPool2d(kernel_size=3, stride=2, padding=1),\n",
        "\n",
        "        # -- first residual block --\n",
        "        *build_block(num_residuals=2, in_channels=64, out_channels=64, up_sample=False),\n",
        "\n",
        "        # -- second residual block --\n",
        "        *build_block(num_residuals=2, in_channels=64, out_channels=128, up_sample=True),\n",
        "\n",
        "        # -- third residual block --\n",
        "        *build_block(num_residuals=2, in_channels=128, out_channels=256, up_sample=True),\n",
        "\n",
        "        # -- fourth residual block --\n",
        "        *build_block(num_residuals=2, in_channels=256, out_channels=512, up_sample=True),\n",
        "\n",
        "        # -- average pooling layer --\n",
        "        nn.AdaptiveAvgPool2d(output_size=(1,1)),\n",
        "\n",
        "        # Flatten output to prepare for linear layer\n",
        "        nn.Flatten(),\n",
        "\n",
        "        # -- fully connected linear layer --\n",
        "        nn.Linear(512, 10)\n",
        "    )\n",
        "\n",
        "  def forward(self, x):\n",
        "    logits = self.resnet(x)\n",
        "    return logits "
      ],
      "execution_count": 6,
      "outputs": []
    },
    {
      "cell_type": "code",
      "metadata": {
        "colab": {
          "base_uri": "https://localhost:8080/"
        },
        "id": "7iaWN7ZudR7g",
        "outputId": "2eb9d395-acdd-4c32-9e4d-2e7e27cd2b17"
      },
      "source": [
        "# checking to make sure the dimensions are right\n",
        "test_net = ResNet18()\n",
        "x = torch.rand(size=(1, 3, 224, 224))\n",
        "for layer in test_net.resnet:\n",
        "  x = layer(x)\n",
        "  print(layer.__class__.__name__, ' output shape: ', x.shape)"
      ],
      "execution_count": 7,
      "outputs": [
        {
          "output_type": "stream",
          "text": [
            "Conv2d  output shape:  torch.Size([1, 64, 112, 112])\n",
            "BatchNorm2d  output shape:  torch.Size([1, 64, 112, 112])\n",
            "ReLU  output shape:  torch.Size([1, 64, 112, 112])\n",
            "MaxPool2d  output shape:  torch.Size([1, 64, 56, 56])\n",
            "ResNetBlock  output shape:  torch.Size([1, 64, 56, 56])\n",
            "ResNetBlock  output shape:  torch.Size([1, 64, 56, 56])\n",
            "ResNetBlock  output shape:  torch.Size([1, 128, 28, 28])\n",
            "ResNetBlock  output shape:  torch.Size([1, 128, 28, 28])\n",
            "ResNetBlock  output shape:  torch.Size([1, 256, 14, 14])\n",
            "ResNetBlock  output shape:  torch.Size([1, 256, 14, 14])\n",
            "ResNetBlock  output shape:  torch.Size([1, 512, 7, 7])\n",
            "ResNetBlock  output shape:  torch.Size([1, 512, 7, 7])\n",
            "AdaptiveAvgPool2d  output shape:  torch.Size([1, 512, 1, 1])\n",
            "Flatten  output shape:  torch.Size([1, 512])\n",
            "Linear  output shape:  torch.Size([1, 10])\n"
          ],
          "name": "stdout"
        },
        {
          "output_type": "stream",
          "text": [
            "/usr/local/lib/python3.7/dist-packages/torch/nn/functional.py:718: UserWarning: Named tensors and all their associated APIs are an experimental feature and subject to change. Please do not use them for anything important until they are released as stable. (Triggered internally at  /pytorch/c10/core/TensorImpl.h:1156.)\n",
            "  return torch.max_pool2d(input, kernel_size, stride, padding, dilation, ceil_mode)\n"
          ],
          "name": "stderr"
        }
      ]
    },
    {
      "cell_type": "code",
      "metadata": {
        "id": "E1x9ldXcgsi9"
      },
      "source": [
        "# initializing hyper params\n",
        "learning_rate = 1e-3\n",
        "batch_size = 64\n",
        "num_epochs = 5"
      ],
      "execution_count": 13,
      "outputs": []
    },
    {
      "cell_type": "code",
      "metadata": {
        "id": "43pCMnmRd9KS"
      },
      "source": [
        "# initialize data loaders\n",
        "train_loader = DataLoader(training_data, batch_size=batch_size, shuffle=True)\n",
        "test_loader = DataLoader(test_data, batch_size=batch_size, shuffle=True)"
      ],
      "execution_count": 14,
      "outputs": []
    },
    {
      "cell_type": "code",
      "metadata": {
        "id": "yP_bJg17gUGn"
      },
      "source": [
        "# initialize model, objective, and optimizer\n",
        "model = ResNet18().cuda()\n",
        "objective = nn.CrossEntropyLoss().cuda()\n",
        "optimizer = torch.optim.Adam(model.parameters(), lr=learning_rate)"
      ],
      "execution_count": 15,
      "outputs": []
    },
    {
      "cell_type": "code",
      "metadata": {
        "colab": {
          "base_uri": "https://localhost:8080/"
        },
        "id": "XcmP4tDJhKKy",
        "outputId": "029c5c43-847b-40fc-e2f9-79dab98b473e"
      },
      "source": [
        "# Track training loss, validation loss, accuracy\n",
        "training_loss = []\n",
        "validation_loss = []\n",
        "accuracy = []\n",
        "\n",
        "for epoch in range(num_epochs):\n",
        "\n",
        "  model.train()\n",
        "  # --- Train Model ---\n",
        "  for i, (X, y) in enumerate(train_loader):\n",
        "\n",
        "    size = len(train_loader.dataset)\n",
        "\n",
        "    # --- Compute the prediction and loss ---\n",
        "    X, y = X.cuda(), y.cuda()\n",
        "    pred = model(X)\n",
        "    loss = objective(pred, y)\n",
        "\n",
        "    # --- Backpropigation ---\n",
        "    optimizer.zero_grad()\n",
        "    loss.backward()\n",
        "    optimizer.step()\n",
        "\n",
        "    training_loss.append(loss.item())\n",
        "\n",
        "    if i % 100 == 0:\n",
        "      loss, current = loss.item(), i * len(X)\n",
        "      print(f\"loss: {loss:>7f}  [{current:>5d}/{size:>5d}]\")\n",
        "\n",
        "  # --- Validate Model ---\n",
        "  with torch.no_grad():\n",
        "    model.eval()\n",
        "    size = len(test_loader.dataset)\n",
        "    avg_loss, avg_acc = 0, 0\n",
        "    for X, y in test_loader:\n",
        "      X, y = X.cuda(), y.cuda()\n",
        "      pred = model(X)\n",
        "      avg_loss += objective(pred, y)\n",
        "      avg_acc += (pred.argmax(1) == y).type(torch.float).sum().item()\n",
        "\n",
        "    avg_loss /= size\n",
        "    avg_acc /= size\n",
        "\n",
        "    validation_loss.append(avg_loss)\n",
        "    accuracy.append(avg_acc)\n",
        "\n",
        "    print(f\"Test Error: \\n Accuracy: {(100*avg_acc):>0.1f}%, Avg loss: {avg_loss:>8f} \\n\")"
      ],
      "execution_count": 16,
      "outputs": [
        {
          "output_type": "stream",
          "text": [
            "loss: 2.340817  [    0/50000]\n",
            "loss: 1.771595  [ 6400/50000]\n",
            "loss: 1.790625  [12800/50000]\n",
            "loss: 1.567643  [19200/50000]\n",
            "loss: 1.423477  [25600/50000]\n",
            "loss: 1.335673  [32000/50000]\n",
            "loss: 1.252069  [38400/50000]\n",
            "loss: 1.161745  [44800/50000]\n",
            "Test Error: \n",
            " Accuracy: 58.4%, Avg loss: 0.018403 \n",
            "\n",
            "loss: 0.925331  [    0/50000]\n",
            "loss: 1.019293  [ 6400/50000]\n",
            "loss: 0.891970  [12800/50000]\n",
            "loss: 0.872690  [19200/50000]\n",
            "loss: 0.775584  [25600/50000]\n",
            "loss: 0.744717  [32000/50000]\n",
            "loss: 0.841771  [38400/50000]\n",
            "loss: 0.892648  [44800/50000]\n",
            "Test Error: \n",
            " Accuracy: 71.2%, Avg loss: 0.013317 \n",
            "\n",
            "loss: 0.715073  [    0/50000]\n",
            "loss: 0.747038  [ 6400/50000]\n",
            "loss: 0.754061  [12800/50000]\n",
            "loss: 0.476025  [19200/50000]\n",
            "loss: 0.641235  [25600/50000]\n",
            "loss: 0.842051  [32000/50000]\n",
            "loss: 0.616557  [38400/50000]\n",
            "loss: 0.732215  [44800/50000]\n",
            "Test Error: \n",
            " Accuracy: 77.9%, Avg loss: 0.009990 \n",
            "\n",
            "loss: 0.527561  [    0/50000]\n",
            "loss: 0.516190  [ 6400/50000]\n",
            "loss: 0.604260  [12800/50000]\n",
            "loss: 0.438707  [19200/50000]\n",
            "loss: 0.660649  [25600/50000]\n",
            "loss: 0.615994  [32000/50000]\n",
            "loss: 0.543344  [38400/50000]\n",
            "loss: 0.625993  [44800/50000]\n",
            "Test Error: \n",
            " Accuracy: 80.5%, Avg loss: 0.009050 \n",
            "\n",
            "loss: 0.387552  [    0/50000]\n",
            "loss: 0.326046  [ 6400/50000]\n",
            "loss: 0.509879  [12800/50000]\n",
            "loss: 0.347406  [19200/50000]\n",
            "loss: 0.336485  [25600/50000]\n",
            "loss: 0.577542  [32000/50000]\n",
            "loss: 0.376525  [38400/50000]\n",
            "loss: 0.450785  [44800/50000]\n",
            "Test Error: \n",
            " Accuracy: 81.0%, Avg loss: 0.008912 \n",
            "\n"
          ],
          "name": "stdout"
        }
      ]
    },
    {
      "cell_type": "code",
      "metadata": {
        "colab": {
          "base_uri": "https://localhost:8080/"
        },
        "id": "PiemTdgqzOQH",
        "outputId": "85aeacd8-2ebb-4d24-dd38-7d182d23397b"
      },
      "source": [
        "num_correct = 0\n",
        "for i in range(len(test_data)):\n",
        "  X, y = test_data[i]\n",
        "  X = X.cuda()\n",
        "  X = X.view(-1, 3, 224, 224)\n",
        "  pred = model(X)\n",
        "  num_correct += (pred.argmax(1) == y)\n",
        "\n",
        "print(num_correct)\n",
        "print(len(test_data))\n",
        "\n",
        "print(\"accuracy: {}%\".format((num_correct / len(test_data)).item() * 100))"
      ],
      "execution_count": 21,
      "outputs": [
        {
          "output_type": "stream",
          "text": [
            "tensor([8095], device='cuda:0')\n",
            "10000\n",
            "accuracy: 80.9499979019165%\n"
          ],
          "name": "stdout"
        }
      ]
    },
    {
      "cell_type": "code",
      "metadata": {
        "colab": {
          "base_uri": "https://localhost:8080/",
          "height": 279
        },
        "id": "KhF9X3I2Cuav",
        "outputId": "487e0652-2d9d-4da8-c1d3-883b16c4e8cd"
      },
      "source": [
        "# Training loss\n",
        "plt.plot([i for i in range(len(training_loss))], training_loss, label=\"training loss\")\n",
        "plt.xlabel(\"iterations\")\n",
        "plt.ylabel(\"loss\")\n",
        "plt.show()"
      ],
      "execution_count": 22,
      "outputs": [
        {
          "output_type": "display_data",
          "data": {
            "image/png": "[encoded data removed]",
            "text/plain": [
              "<Figure size 432x288 with 1 Axes>"
            ]
          },
          "metadata": {
            "tags": [],
            "needs_background": "light"
          }
        }
      ]
    },
    {
      "cell_type": "code",
      "metadata": {
        "colab": {
          "base_uri": "https://localhost:8080/",
          "height": 279
        },
        "id": "mTDCLP9REAJI",
        "outputId": "7eb4ec30-bd1c-45ee-b498-ab6d43f5fef1"
      },
      "source": [
        "# Validation loss\n",
        "plt.plot([i for i in range(len(validation_loss))], validation_loss, label=\"validation loss\")\n",
        "plt.xlabel(\"epochs\")\n",
        "plt.ylabel(\"loss\")\n",
        "plt.show()"
      ],
      "execution_count": 23,
      "outputs": [
        {
          "output_type": "display_data",
          "data": {
            "image/png": "[encoded data removed]",
            "text/plain": [
              "<Figure size 432x288 with 1 Axes>"
            ]
          },
          "metadata": {
            "tags": [],
            "needs_background": "light"
          }
        }
      ]
    },
    {
      "cell_type": "code",
      "metadata": {
        "colab": {
          "base_uri": "https://localhost:8080/",
          "height": 279
        },
        "id": "u22xVMEvEB3m",
        "outputId": "2b60aa4b-0caa-4bd1-a941-aa47e0e83682"
      },
      "source": [
        "# Accuracy\n",
        "plt.plot([i for i in range(len(accuracy))], accuracy, label=\"accuracy\")\n",
        "plt.xlabel(\"epochs\")\n",
        "plt.ylabel(\"accuracy\")\n",
        "plt.show()"
      ],
      "execution_count": 24,
      "outputs": [
        {
          "output_type": "display_data",
          "data": {
            "image/png": "[encoded data removed]",
            "text/plain": [
              "<Figure size 432x288 with 1 Axes>"
            ]
          },
          "metadata": {
            "tags": [],
            "needs_background": "light"
          }
        }
      ]
    }
  ]
}