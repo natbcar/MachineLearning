{
  "nbformat": 4,
  "nbformat_minor": 0,
  "metadata": {
    "colab": {
      "name": "LeNet.ipynb",
      "provenance": [],
      "authorship_tag": "ABX9TyNzfxD74m6CXvF6cC8L+Wcb",
      "include_colab_link": true
    },
    "kernelspec": {
      "name": "python3",
      "display_name": "Python 3"
    },
    "language_info": {
      "name": "python"
    },
    "accelerator": "GPU",
    "widgets": {
      "application/vnd.jupyter.widget-state+json": {
        "71b64484191b4167a9509a2eae655647": {
          "model_module": "@jupyter-widgets/controls",
          "model_name": "HBoxModel",
          "state": {
            "_view_name": "HBoxView",
            "_dom_classes": [],
            "_model_name": "HBoxModel",
            "_view_module": "@jupyter-widgets/controls",
            "_model_module_version": "1.5.0",
            "_view_count": null,
            "_view_module_version": "1.5.0",
            "box_style": "",
            "layout": "IPY_MODEL_1b14b6901195486e89cfdb07188fc999",
            "_model_module": "@jupyter-widgets/controls",
            "children": [
              "IPY_MODEL_c1ef4e0e6ef24f89967fab74f4b598d9",
              "IPY_MODEL_352fed1b545941179580e73678bbd51c"
            ]
          }
        },
        "1b14b6901195486e89cfdb07188fc999": {
          "model_module": "@jupyter-widgets/base",
          "model_name": "LayoutModel",
          "state": {
            "_view_name": "LayoutView",
            "grid_template_rows": null,
            "right": null,
            "justify_content": null,
            "_view_module": "@jupyter-widgets/base",
            "overflow": null,
            "_model_module_version": "1.2.0",
            "_view_count": null,
            "flex_flow": null,
            "width": null,
            "min_width": null,
            "border": null,
            "align_items": null,
            "bottom": null,
            "_model_module": "@jupyter-widgets/base",
            "top": null,
            "grid_column": null,
            "overflow_y": null,
            "overflow_x": null,
            "grid_auto_flow": null,
            "grid_area": null,
            "grid_template_columns": null,
            "flex": null,
            "_model_name": "LayoutModel",
            "justify_items": null,
            "grid_row": null,
            "max_height": null,
            "align_content": null,
            "visibility": null,
            "align_self": null,
            "height": null,
            "min_height": null,
            "padding": null,
            "grid_auto_rows": null,
            "grid_gap": null,
            "max_width": null,
            "order": null,
            "_view_module_version": "1.2.0",
            "grid_template_areas": null,
            "object_position": null,
            "object_fit": null,
            "grid_auto_columns": null,
            "margin": null,
            "display": null,
            "left": null
          }
        },
        "c1ef4e0e6ef24f89967fab74f4b598d9": {
          "model_module": "@jupyter-widgets/controls",
          "model_name": "FloatProgressModel",
          "state": {
            "_view_name": "ProgressView",
            "style": "IPY_MODEL_645c4557b5734a80b2dc5b634ca9976c",
            "_dom_classes": [],
            "description": "",
            "_model_name": "FloatProgressModel",
            "bar_style": "success",
            "max": 26421880,
            "_view_module": "@jupyter-widgets/controls",
            "_model_module_version": "1.5.0",
            "value": 26421880,
            "_view_count": null,
            "_view_module_version": "1.5.0",
            "orientation": "horizontal",
            "min": 0,
            "description_tooltip": null,
            "_model_module": "@jupyter-widgets/controls",
            "layout": "IPY_MODEL_89a0a5c7ef7248149bf472df90b5f90c"
          }
        },
        "352fed1b545941179580e73678bbd51c": {
          "model_module": "@jupyter-widgets/controls",
          "model_name": "HTMLModel",
          "state": {
            "_view_name": "HTMLView",
            "style": "IPY_MODEL_5c384f749c774c4abbcde7576fba6bc3",
            "_dom_classes": [],
            "description": "",
            "_model_name": "HTMLModel",
            "placeholder": "​",
            "_view_module": "@jupyter-widgets/controls",
            "_model_module_version": "1.5.0",
            "value": " 26422272/? [00:08&lt;00:00, 3097689.74it/s]",
            "_view_count": null,
            "_view_module_version": "1.5.0",
            "description_tooltip": null,
            "_model_module": "@jupyter-widgets/controls",
            "layout": "IPY_MODEL_fb161fce39c94dbba23e20ff27efcbca"
          }
        },
        "645c4557b5734a80b2dc5b634ca9976c": {
          "model_module": "@jupyter-widgets/controls",
          "model_name": "ProgressStyleModel",
          "state": {
            "_view_name": "StyleView",
            "_model_name": "ProgressStyleModel",
            "description_width": "initial",
            "_view_module": "@jupyter-widgets/base",
            "_model_module_version": "1.5.0",
            "_view_count": null,
            "_view_module_version": "1.2.0",
            "bar_color": null,
            "_model_module": "@jupyter-widgets/controls"
          }
        },
        "89a0a5c7ef7248149bf472df90b5f90c": {
          "model_module": "@jupyter-widgets/base",
          "model_name": "LayoutModel",
          "state": {
            "_view_name": "LayoutView",
            "grid_template_rows": null,
            "right": null,
            "justify_content": null,
            "_view_module": "@jupyter-widgets/base",
            "overflow": null,
            "_model_module_version": "1.2.0",
            "_view_count": null,
            "flex_flow": null,
            "width": null,
            "min_width": null,
            "border": null,
            "align_items": null,
            "bottom": null,
            "_model_module": "@jupyter-widgets/base",
            "top": null,
            "grid_column": null,
            "overflow_y": null,
            "overflow_x": null,
            "grid_auto_flow": null,
            "grid_area": null,
            "grid_template_columns": null,
            "flex": null,
            "_model_name": "LayoutModel",
            "justify_items": null,
            "grid_row": null,
            "max_height": null,
            "align_content": null,
            "visibility": null,
            "align_self": null,
            "height": null,
            "min_height": null,
            "padding": null,
            "grid_auto_rows": null,
            "grid_gap": null,
            "max_width": null,
            "order": null,
            "_view_module_version": "1.2.0",
            "grid_template_areas": null,
            "object_position": null,
            "object_fit": null,
            "grid_auto_columns": null,
            "margin": null,
            "display": null,
            "left": null
          }
        },
        "5c384f749c774c4abbcde7576fba6bc3": {
          "model_module": "@jupyter-widgets/controls",
          "model_name": "DescriptionStyleModel",
          "state": {
            "_view_name": "StyleView",
            "_model_name": "DescriptionStyleModel",
            "description_width": "",
            "_view_module": "@jupyter-widgets/base",
            "_model_module_version": "1.5.0",
            "_view_count": null,
            "_view_module_version": "1.2.0",
            "_model_module": "@jupyter-widgets/controls"
          }
        },
        "fb161fce39c94dbba23e20ff27efcbca": {
          "model_module": "@jupyter-widgets/base",
          "model_name": "LayoutModel",
          "state": {
            "_view_name": "LayoutView",
            "grid_template_rows": null,
            "right": null,
            "justify_content": null,
            "_view_module": "@jupyter-widgets/base",
            "overflow": null,
            "_model_module_version": "1.2.0",
            "_view_count": null,
            "flex_flow": null,
            "width": null,
            "min_width": null,
            "border": null,
            "align_items": null,
            "bottom": null,
            "_model_module": "@jupyter-widgets/base",
            "top": null,
            "grid_column": null,
            "overflow_y": null,
            "overflow_x": null,
            "grid_auto_flow": null,
            "grid_area": null,
            "grid_template_columns": null,
            "flex": null,
            "_model_name": "LayoutModel",
            "justify_items": null,
            "grid_row": null,
            "max_height": null,
            "align_content": null,
            "visibility": null,
            "align_self": null,
            "height": null,
            "min_height": null,
            "padding": null,
            "grid_auto_rows": null,
            "grid_gap": null,
            "max_width": null,
            "order": null,
            "_view_module_version": "1.2.0",
            "grid_template_areas": null,
            "object_position": null,
            "object_fit": null,
            "grid_auto_columns": null,
            "margin": null,
            "display": null,
            "left": null
          }
        },
        "9f06f7d255dd41769e0fd4e9da5e7b43": {
          "model_module": "@jupyter-widgets/controls",
          "model_name": "HBoxModel",
          "state": {
            "_view_name": "HBoxView",
            "_dom_classes": [],
            "_model_name": "HBoxModel",
            "_view_module": "@jupyter-widgets/controls",
            "_model_module_version": "1.5.0",
            "_view_count": null,
            "_view_module_version": "1.5.0",
            "box_style": "",
            "layout": "IPY_MODEL_3d644611e5054d2ba35ed14736d7e7ee",
            "_model_module": "@jupyter-widgets/controls",
            "children": [
              "IPY_MODEL_3c991441f3ce445398019d854a85d022",
              "IPY_MODEL_ef5353d2b1ce4c8aa17b28239dae3b2e"
            ]
          }
        },
        "3d644611e5054d2ba35ed14736d7e7ee": {
          "model_module": "@jupyter-widgets/base",
          "model_name": "LayoutModel",
          "state": {
            "_view_name": "LayoutView",
            "grid_template_rows": null,
            "right": null,
            "justify_content": null,
            "_view_module": "@jupyter-widgets/base",
            "overflow": null,
            "_model_module_version": "1.2.0",
            "_view_count": null,
            "flex_flow": null,
            "width": null,
            "min_width": null,
            "border": null,
            "align_items": null,
            "bottom": null,
            "_model_module": "@jupyter-widgets/base",
            "top": null,
            "grid_column": null,
            "overflow_y": null,
            "overflow_x": null,
            "grid_auto_flow": null,
            "grid_area": null,
            "grid_template_columns": null,
            "flex": null,
            "_model_name": "LayoutModel",
            "justify_items": null,
            "grid_row": null,
            "max_height": null,
            "align_content": null,
            "visibility": null,
            "align_self": null,
            "height": null,
            "min_height": null,
            "padding": null,
            "grid_auto_rows": null,
            "grid_gap": null,
            "max_width": null,
            "order": null,
            "_view_module_version": "1.2.0",
            "grid_template_areas": null,
            "object_position": null,
            "object_fit": null,
            "grid_auto_columns": null,
            "margin": null,
            "display": null,
            "left": null
          }
        },
        "3c991441f3ce445398019d854a85d022": {
          "model_module": "@jupyter-widgets/controls",
          "model_name": "FloatProgressModel",
          "state": {
            "_view_name": "ProgressView",
            "style": "IPY_MODEL_9f9d741d949b4f53bb3149c0a44db235",
            "_dom_classes": [],
            "description": "",
            "_model_name": "FloatProgressModel",
            "bar_style": "success",
            "max": 29515,
            "_view_module": "@jupyter-widgets/controls",
            "_model_module_version": "1.5.0",
            "value": 29515,
            "_view_count": null,
            "_view_module_version": "1.5.0",
            "orientation": "horizontal",
            "min": 0,
            "description_tooltip": null,
            "_model_module": "@jupyter-widgets/controls",
            "layout": "IPY_MODEL_0c5351b9489f474bbc19b4c11bbb4f71"
          }
        },
        "ef5353d2b1ce4c8aa17b28239dae3b2e": {
          "model_module": "@jupyter-widgets/controls",
          "model_name": "HTMLModel",
          "state": {
            "_view_name": "HTMLView",
            "style": "IPY_MODEL_8eb7bc25e2ab45e880092d5fc679ee15",
            "_dom_classes": [],
            "description": "",
            "_model_name": "HTMLModel",
            "placeholder": "​",
            "_view_module": "@jupyter-widgets/controls",
            "_model_module_version": "1.5.0",
            "value": " 29696/? [00:00&lt;00:00, 81168.35it/s]",
            "_view_count": null,
            "_view_module_version": "1.5.0",
            "description_tooltip": null,
            "_model_module": "@jupyter-widgets/controls",
            "layout": "IPY_MODEL_d7e02112aba54a5695b8a69a1218c100"
          }
        },
        "9f9d741d949b4f53bb3149c0a44db235": {
          "model_module": "@jupyter-widgets/controls",
          "model_name": "ProgressStyleModel",
          "state": {
            "_view_name": "StyleView",
            "_model_name": "ProgressStyleModel",
            "description_width": "initial",
            "_view_module": "@jupyter-widgets/base",
            "_model_module_version": "1.5.0",
            "_view_count": null,
            "_view_module_version": "1.2.0",
            "bar_color": null,
            "_model_module": "@jupyter-widgets/controls"
          }
        },
        "0c5351b9489f474bbc19b4c11bbb4f71": {
          "model_module": "@jupyter-widgets/base",
          "model_name": "LayoutModel",
          "state": {
            "_view_name": "LayoutView",
            "grid_template_rows": null,
            "right": null,
            "justify_content": null,
            "_view_module": "@jupyter-widgets/base",
            "overflow": null,
            "_model_module_version": "1.2.0",
            "_view_count": null,
            "flex_flow": null,
            "width": null,
            "min_width": null,
            "border": null,
            "align_items": null,
            "bottom": null,
            "_model_module": "@jupyter-widgets/base",
            "top": null,
            "grid_column": null,
            "overflow_y": null,
            "overflow_x": null,
            "grid_auto_flow": null,
            "grid_area": null,
            "grid_template_columns": null,
            "flex": null,
            "_model_name": "LayoutModel",
            "justify_items": null,
            "grid_row": null,
            "max_height": null,
            "align_content": null,
            "visibility": null,
            "align_self": null,
            "height": null,
            "min_height": null,
            "padding": null,
            "grid_auto_rows": null,
            "grid_gap": null,
            "max_width": null,
            "order": null,
            "_view_module_version": "1.2.0",
            "grid_template_areas": null,
            "object_position": null,
            "object_fit": null,
            "grid_auto_columns": null,
            "margin": null,
            "display": null,
            "left": null
          }
        },
        "8eb7bc25e2ab45e880092d5fc679ee15": {
          "model_module": "@jupyter-widgets/controls",
          "model_name": "DescriptionStyleModel",
          "state": {
            "_view_name": "StyleView",
            "_model_name": "DescriptionStyleModel",
            "description_width": "",
            "_view_module": "@jupyter-widgets/base",
            "_model_module_version": "1.5.0",
            "_view_count": null,
            "_view_module_version": "1.2.0",
            "_model_module": "@jupyter-widgets/controls"
          }
        },
        "d7e02112aba54a5695b8a69a1218c100": {
          "model_module": "@jupyter-widgets/base",
          "model_name": "LayoutModel",
          "state": {
            "_view_name": "LayoutView",
            "grid_template_rows": null,
            "right": null,
            "justify_content": null,
            "_view_module": "@jupyter-widgets/base",
            "overflow": null,
            "_model_module_version": "1.2.0",
            "_view_count": null,
            "flex_flow": null,
            "width": null,
            "min_width": null,
            "border": null,
            "align_items": null,
            "bottom": null,
            "_model_module": "@jupyter-widgets/base",
            "top": null,
            "grid_column": null,
            "overflow_y": null,
            "overflow_x": null,
            "grid_auto_flow": null,
            "grid_area": null,
            "grid_template_columns": null,
            "flex": null,
            "_model_name": "LayoutModel",
            "justify_items": null,
            "grid_row": null,
            "max_height": null,
            "align_content": null,
            "visibility": null,
            "align_self": null,
            "height": null,
            "min_height": null,
            "padding": null,
            "grid_auto_rows": null,
            "grid_gap": null,
            "max_width": null,
            "order": null,
            "_view_module_version": "1.2.0",
            "grid_template_areas": null,
            "object_position": null,
            "object_fit": null,
            "grid_auto_columns": null,
            "margin": null,
            "display": null,
            "left": null
          }
        },
        "037c8a3d135a46f9b57009e74d05e70e": {
          "model_module": "@jupyter-widgets/controls",
          "model_name": "HBoxModel",
          "state": {
            "_view_name": "HBoxView",
            "_dom_classes": [],
            "_model_name": "HBoxModel",
            "_view_module": "@jupyter-widgets/controls",
            "_model_module_version": "1.5.0",
            "_view_count": null,
            "_view_module_version": "1.5.0",
            "box_style": "",
            "layout": "IPY_MODEL_bf48a2ae97194093a6a7e8efa894e700",
            "_model_module": "@jupyter-widgets/controls",
            "children": [
              "IPY_MODEL_d90357ca052644ed98cb9d5ad80140ba",
              "IPY_MODEL_7fb7a4cc309c40f0abc6d36b5415e5f6"
            ]
          }
        },
        "bf48a2ae97194093a6a7e8efa894e700": {
          "model_module": "@jupyter-widgets/base",
          "model_name": "LayoutModel",
          "state": {
            "_view_name": "LayoutView",
            "grid_template_rows": null,
            "right": null,
            "justify_content": null,
            "_view_module": "@jupyter-widgets/base",
            "overflow": null,
            "_model_module_version": "1.2.0",
            "_view_count": null,
            "flex_flow": null,
            "width": null,
            "min_width": null,
            "border": null,
            "align_items": null,
            "bottom": null,
            "_model_module": "@jupyter-widgets/base",
            "top": null,
            "grid_column": null,
            "overflow_y": null,
            "overflow_x": null,
            "grid_auto_flow": null,
            "grid_area": null,
            "grid_template_columns": null,
            "flex": null,
            "_model_name": "LayoutModel",
            "justify_items": null,
            "grid_row": null,
            "max_height": null,
            "align_content": null,
            "visibility": null,
            "align_self": null,
            "height": null,
            "min_height": null,
            "padding": null,
            "grid_auto_rows": null,
            "grid_gap": null,
            "max_width": null,
            "order": null,
            "_view_module_version": "1.2.0",
            "grid_template_areas": null,
            "object_position": null,
            "object_fit": null,
            "grid_auto_columns": null,
            "margin": null,
            "display": null,
            "left": null
          }
        },
        "d90357ca052644ed98cb9d5ad80140ba": {
          "model_module": "@jupyter-widgets/controls",
          "model_name": "FloatProgressModel",
          "state": {
            "_view_name": "ProgressView",
            "style": "IPY_MODEL_b69b63d778324136bed0d787f74a37e9",
            "_dom_classes": [],
            "description": "",
            "_model_name": "FloatProgressModel",
            "bar_style": "success",
            "max": 4422102,
            "_view_module": "@jupyter-widgets/controls",
            "_model_module_version": "1.5.0",
            "value": 4422102,
            "_view_count": null,
            "_view_module_version": "1.5.0",
            "orientation": "horizontal",
            "min": 0,
            "description_tooltip": null,
            "_model_module": "@jupyter-widgets/controls",
            "layout": "IPY_MODEL_d6650eb0880644b09f742652874f3a72"
          }
        },
        "7fb7a4cc309c40f0abc6d36b5415e5f6": {
          "model_module": "@jupyter-widgets/controls",
          "model_name": "HTMLModel",
          "state": {
            "_view_name": "HTMLView",
            "style": "IPY_MODEL_86612fca367b4a34b231274db81cde69",
            "_dom_classes": [],
            "description": "",
            "_model_name": "HTMLModel",
            "placeholder": "​",
            "_view_module": "@jupyter-widgets/controls",
            "_model_module_version": "1.5.0",
            "value": " 4422656/? [00:05&lt;00:00, 786409.95it/s]",
            "_view_count": null,
            "_view_module_version": "1.5.0",
            "description_tooltip": null,
            "_model_module": "@jupyter-widgets/controls",
            "layout": "IPY_MODEL_f650dc11c0114e71b805c435a9f829b9"
          }
        },
        "b69b63d778324136bed0d787f74a37e9": {
          "model_module": "@jupyter-widgets/controls",
          "model_name": "ProgressStyleModel",
          "state": {
            "_view_name": "StyleView",
            "_model_name": "ProgressStyleModel",
            "description_width": "initial",
            "_view_module": "@jupyter-widgets/base",
            "_model_module_version": "1.5.0",
            "_view_count": null,
            "_view_module_version": "1.2.0",
            "bar_color": null,
            "_model_module": "@jupyter-widgets/controls"
          }
        },
        "d6650eb0880644b09f742652874f3a72": {
          "model_module": "@jupyter-widgets/base",
          "model_name": "LayoutModel",
          "state": {
            "_view_name": "LayoutView",
            "grid_template_rows": null,
            "right": null,
            "justify_content": null,
            "_view_module": "@jupyter-widgets/base",
            "overflow": null,
            "_model_module_version": "1.2.0",
            "_view_count": null,
            "flex_flow": null,
            "width": null,
            "min_width": null,
            "border": null,
            "align_items": null,
            "bottom": null,
            "_model_module": "@jupyter-widgets/base",
            "top": null,
            "grid_column": null,
            "overflow_y": null,
            "overflow_x": null,
            "grid_auto_flow": null,
            "grid_area": null,
            "grid_template_columns": null,
            "flex": null,
            "_model_name": "LayoutModel",
            "justify_items": null,
            "grid_row": null,
            "max_height": null,
            "align_content": null,
            "visibility": null,
            "align_self": null,
            "height": null,
            "min_height": null,
            "padding": null,
            "grid_auto_rows": null,
            "grid_gap": null,
            "max_width": null,
            "order": null,
            "_view_module_version": "1.2.0",
            "grid_template_areas": null,
            "object_position": null,
            "object_fit": null,
            "grid_auto_columns": null,
            "margin": null,
            "display": null,
            "left": null
          }
        },
        "86612fca367b4a34b231274db81cde69": {
          "model_module": "@jupyter-widgets/controls",
          "model_name": "DescriptionStyleModel",
          "state": {
            "_view_name": "StyleView",
            "_model_name": "DescriptionStyleModel",
            "description_width": "",
            "_view_module": "@jupyter-widgets/base",
            "_model_module_version": "1.5.0",
            "_view_count": null,
            "_view_module_version": "1.2.0",
            "_model_module": "@jupyter-widgets/controls"
          }
        },
        "f650dc11c0114e71b805c435a9f829b9": {
          "model_module": "@jupyter-widgets/base",
          "model_name": "LayoutModel",
          "state": {
            "_view_name": "LayoutView",
            "grid_template_rows": null,
            "right": null,
            "justify_content": null,
            "_view_module": "@jupyter-widgets/base",
            "overflow": null,
            "_model_module_version": "1.2.0",
            "_view_count": null,
            "flex_flow": null,
            "width": null,
            "min_width": null,
            "border": null,
            "align_items": null,
            "bottom": null,
            "_model_module": "@jupyter-widgets/base",
            "top": null,
            "grid_column": null,
            "overflow_y": null,
            "overflow_x": null,
            "grid_auto_flow": null,
            "grid_area": null,
            "grid_template_columns": null,
            "flex": null,
            "_model_name": "LayoutModel",
            "justify_items": null,
            "grid_row": null,
            "max_height": null,
            "align_content": null,
            "visibility": null,
            "align_self": null,
            "height": null,
            "min_height": null,
            "padding": null,
            "grid_auto_rows": null,
            "grid_gap": null,
            "max_width": null,
            "order": null,
            "_view_module_version": "1.2.0",
            "grid_template_areas": null,
            "object_position": null,
            "object_fit": null,
            "grid_auto_columns": null,
            "margin": null,
            "display": null,
            "left": null
          }
        },
        "ef4a5006477d435d9ada2ade50341b21": {
          "model_module": "@jupyter-widgets/controls",
          "model_name": "HBoxModel",
          "state": {
            "_view_name": "HBoxView",
            "_dom_classes": [],
            "_model_name": "HBoxModel",
            "_view_module": "@jupyter-widgets/controls",
            "_model_module_version": "1.5.0",
            "_view_count": null,
            "_view_module_version": "1.5.0",
            "box_style": "",
            "layout": "IPY_MODEL_16918321443b4c5992f48814fb43c247",
            "_model_module": "@jupyter-widgets/controls",
            "children": [
              "IPY_MODEL_6b45d8a32a47477b8b561524e28babbb",
              "IPY_MODEL_03920dcdb0f24cd391b1a7dd0634f15f"
            ]
          }
        },
        "16918321443b4c5992f48814fb43c247": {
          "model_module": "@jupyter-widgets/base",
          "model_name": "LayoutModel",
          "state": {
            "_view_name": "LayoutView",
            "grid_template_rows": null,
            "right": null,
            "justify_content": null,
            "_view_module": "@jupyter-widgets/base",
            "overflow": null,
            "_model_module_version": "1.2.0",
            "_view_count": null,
            "flex_flow": null,
            "width": null,
            "min_width": null,
            "border": null,
            "align_items": null,
            "bottom": null,
            "_model_module": "@jupyter-widgets/base",
            "top": null,
            "grid_column": null,
            "overflow_y": null,
            "overflow_x": null,
            "grid_auto_flow": null,
            "grid_area": null,
            "grid_template_columns": null,
            "flex": null,
            "_model_name": "LayoutModel",
            "justify_items": null,
            "grid_row": null,
            "max_height": null,
            "align_content": null,
            "visibility": null,
            "align_self": null,
            "height": null,
            "min_height": null,
            "padding": null,
            "grid_auto_rows": null,
            "grid_gap": null,
            "max_width": null,
            "order": null,
            "_view_module_version": "1.2.0",
            "grid_template_areas": null,
            "object_position": null,
            "object_fit": null,
            "grid_auto_columns": null,
            "margin": null,
            "display": null,
            "left": null
          }
        },
        "6b45d8a32a47477b8b561524e28babbb": {
          "model_module": "@jupyter-widgets/controls",
          "model_name": "FloatProgressModel",
          "state": {
            "_view_name": "ProgressView",
            "style": "IPY_MODEL_545c344cf4fe48a2bcdbaa2d368af65a",
            "_dom_classes": [],
            "description": "",
            "_model_name": "FloatProgressModel",
            "bar_style": "success",
            "max": 5148,
            "_view_module": "@jupyter-widgets/controls",
            "_model_module_version": "1.5.0",
            "value": 5148,
            "_view_count": null,
            "_view_module_version": "1.5.0",
            "orientation": "horizontal",
            "min": 0,
            "description_tooltip": null,
            "_model_module": "@jupyter-widgets/controls",
            "layout": "IPY_MODEL_2dce1e54ac8b48e69b795166606d11e6"
          }
        },
        "03920dcdb0f24cd391b1a7dd0634f15f": {
          "model_module": "@jupyter-widgets/controls",
          "model_name": "HTMLModel",
          "state": {
            "_view_name": "HTMLView",
            "style": "IPY_MODEL_3d7eb533db3d4d1d8734d80d9e91b4c5",
            "_dom_classes": [],
            "description": "",
            "_model_name": "HTMLModel",
            "placeholder": "​",
            "_view_module": "@jupyter-widgets/controls",
            "_model_module_version": "1.5.0",
            "value": " 6144/? [00:04&lt;00:00, 1389.37it/s]",
            "_view_count": null,
            "_view_module_version": "1.5.0",
            "description_tooltip": null,
            "_model_module": "@jupyter-widgets/controls",
            "layout": "IPY_MODEL_9fd21497f29548bab1b2104b6cbc3756"
          }
        },
        "545c344cf4fe48a2bcdbaa2d368af65a": {
          "model_module": "@jupyter-widgets/controls",
          "model_name": "ProgressStyleModel",
          "state": {
            "_view_name": "StyleView",
            "_model_name": "ProgressStyleModel",
            "description_width": "initial",
            "_view_module": "@jupyter-widgets/base",
            "_model_module_version": "1.5.0",
            "_view_count": null,
            "_view_module_version": "1.2.0",
            "bar_color": null,
            "_model_module": "@jupyter-widgets/controls"
          }
        },
        "2dce1e54ac8b48e69b795166606d11e6": {
          "model_module": "@jupyter-widgets/base",
          "model_name": "LayoutModel",
          "state": {
            "_view_name": "LayoutView",
            "grid_template_rows": null,
            "right": null,
            "justify_content": null,
            "_view_module": "@jupyter-widgets/base",
            "overflow": null,
            "_model_module_version": "1.2.0",
            "_view_count": null,
            "flex_flow": null,
            "width": null,
            "min_width": null,
            "border": null,
            "align_items": null,
            "bottom": null,
            "_model_module": "@jupyter-widgets/base",
            "top": null,
            "grid_column": null,
            "overflow_y": null,
            "overflow_x": null,
            "grid_auto_flow": null,
            "grid_area": null,
            "grid_template_columns": null,
            "flex": null,
            "_model_name": "LayoutModel",
            "justify_items": null,
            "grid_row": null,
            "max_height": null,
            "align_content": null,
            "visibility": null,
            "align_self": null,
            "height": null,
            "min_height": null,
            "padding": null,
            "grid_auto_rows": null,
            "grid_gap": null,
            "max_width": null,
            "order": null,
            "_view_module_version": "1.2.0",
            "grid_template_areas": null,
            "object_position": null,
            "object_fit": null,
            "grid_auto_columns": null,
            "margin": null,
            "display": null,
            "left": null
          }
        },
        "3d7eb533db3d4d1d8734d80d9e91b4c5": {
          "model_module": "@jupyter-widgets/controls",
          "model_name": "DescriptionStyleModel",
          "state": {
            "_view_name": "StyleView",
            "_model_name": "DescriptionStyleModel",
            "description_width": "",
            "_view_module": "@jupyter-widgets/base",
            "_model_module_version": "1.5.0",
            "_view_count": null,
            "_view_module_version": "1.2.0",
            "_model_module": "@jupyter-widgets/controls"
          }
        },
        "9fd21497f29548bab1b2104b6cbc3756": {
          "model_module": "@jupyter-widgets/base",
          "model_name": "LayoutModel",
          "state": {
            "_view_name": "LayoutView",
            "grid_template_rows": null,
            "right": null,
            "justify_content": null,
            "_view_module": "@jupyter-widgets/base",
            "overflow": null,
            "_model_module_version": "1.2.0",
            "_view_count": null,
            "flex_flow": null,
            "width": null,
            "min_width": null,
            "border": null,
            "align_items": null,
            "bottom": null,
            "_model_module": "@jupyter-widgets/base",
            "top": null,
            "grid_column": null,
            "overflow_y": null,
            "overflow_x": null,
            "grid_auto_flow": null,
            "grid_area": null,
            "grid_template_columns": null,
            "flex": null,
            "_model_name": "LayoutModel",
            "justify_items": null,
            "grid_row": null,
            "max_height": null,
            "align_content": null,
            "visibility": null,
            "align_self": null,
            "height": null,
            "min_height": null,
            "padding": null,
            "grid_auto_rows": null,
            "grid_gap": null,
            "max_width": null,
            "order": null,
            "_view_module_version": "1.2.0",
            "grid_template_areas": null,
            "object_position": null,
            "object_fit": null,
            "grid_auto_columns": null,
            "margin": null,
            "display": null,
            "left": null
          }
        }
      }
    }
  },
  "cells": [
    {
      "cell_type": "markdown",
      "metadata": {
        "id": "view-in-github",
        "colab_type": "text"
      },
      "source": [
        "<a href=\"https://colab.research.google.com/github/natbcar/MachineLearning/blob/main/LeNet.ipynb\" target=\"_parent\"><img src=\"https://colab.research.google.com/assets/colab-badge.svg\" alt=\"Open In Colab\"/></a>"
      ]
    },
    {
      "cell_type": "code",
      "metadata": {
        "id": "P_R9oEwRKK5w"
      },
      "source": [
        "import torch\n",
        "from torch import nn\n",
        "from torch.utils.data import Dataset\n",
        "from torch.utils.data import DataLoader\n",
        "from torchvision import datasets\n",
        "from torchvision.transforms import ToTensor, Lambda\n",
        "import matplotlib.pyplot as plt "
      ],
      "execution_count": null,
      "outputs": []
    },
    {
      "cell_type": "code",
      "metadata": {
        "colab": {
          "base_uri": "https://localhost:8080/",
          "height": 573,
          "referenced_widgets": [
            "71b64484191b4167a9509a2eae655647",
            "1b14b6901195486e89cfdb07188fc999",
            "c1ef4e0e6ef24f89967fab74f4b598d9",
            "352fed1b545941179580e73678bbd51c",
            "645c4557b5734a80b2dc5b634ca9976c",
            "89a0a5c7ef7248149bf472df90b5f90c",
            "5c384f749c774c4abbcde7576fba6bc3",
            "fb161fce39c94dbba23e20ff27efcbca",
            "9f06f7d255dd41769e0fd4e9da5e7b43",
            "3d644611e5054d2ba35ed14736d7e7ee",
            "3c991441f3ce445398019d854a85d022",
            "ef5353d2b1ce4c8aa17b28239dae3b2e",
            "9f9d741d949b4f53bb3149c0a44db235",
            "0c5351b9489f474bbc19b4c11bbb4f71",
            "8eb7bc25e2ab45e880092d5fc679ee15",
            "d7e02112aba54a5695b8a69a1218c100",
            "037c8a3d135a46f9b57009e74d05e70e",
            "bf48a2ae97194093a6a7e8efa894e700",
            "d90357ca052644ed98cb9d5ad80140ba",
            "7fb7a4cc309c40f0abc6d36b5415e5f6",
            "b69b63d778324136bed0d787f74a37e9",
            "d6650eb0880644b09f742652874f3a72",
            "86612fca367b4a34b231274db81cde69",
            "f650dc11c0114e71b805c435a9f829b9",
            "ef4a5006477d435d9ada2ade50341b21",
            "16918321443b4c5992f48814fb43c247",
            "6b45d8a32a47477b8b561524e28babbb",
            "03920dcdb0f24cd391b1a7dd0634f15f",
            "545c344cf4fe48a2bcdbaa2d368af65a",
            "2dce1e54ac8b48e69b795166606d11e6",
            "3d7eb533db3d4d1d8734d80d9e91b4c5",
            "9fd21497f29548bab1b2104b6cbc3756"
          ]
        },
        "id": "_Ux569oxeo4p",
        "outputId": "84ce7510-e002-4d61-f46f-ba70fcf87888"
      },
      "source": [
        "training_data = datasets.FashionMNIST(\n",
        "    root=\"data\",\n",
        "    train=True,\n",
        "    download=True,\n",
        "    transform=ToTensor()\n",
        ")\n",
        "\n",
        "test_data = datasets.FashionMNIST(\n",
        "    root=\"data\",\n",
        "    train=False,\n",
        "    download=True,\n",
        "    transform=ToTensor()\n",
        ")"
      ],
      "execution_count": null,
      "outputs": [
        {
          "output_type": "stream",
          "text": [
            "Downloading http://fashion-mnist.s3-website.eu-central-1.amazonaws.com/train-images-idx3-ubyte.gz\n",
            "Downloading http://fashion-mnist.s3-website.eu-central-1.amazonaws.com/train-images-idx3-ubyte.gz to data/FashionMNIST/raw/train-images-idx3-ubyte.gz\n"
          ],
          "name": "stdout"
        },
        {
          "output_type": "display_data",
          "data": {
            "application/vnd.jupyter.widget-view+json": {
              "model_id": "71b64484191b4167a9509a2eae655647",
              "version_minor": 0,
              "version_major": 2
            },
            "text/plain": [
              "HBox(children=(FloatProgress(value=0.0, max=26421880.0), HTML(value='')))"
            ]
          },
          "metadata": {
            "tags": []
          }
        },
        {
          "output_type": "stream",
          "text": [
            "\n",
            "Extracting data/FashionMNIST/raw/train-images-idx3-ubyte.gz to data/FashionMNIST/raw\n",
            "\n",
            "Downloading http://fashion-mnist.s3-website.eu-central-1.amazonaws.com/train-labels-idx1-ubyte.gz\n",
            "Downloading http://fashion-mnist.s3-website.eu-central-1.amazonaws.com/train-labels-idx1-ubyte.gz to data/FashionMNIST/raw/train-labels-idx1-ubyte.gz\n"
          ],
          "name": "stdout"
        },
        {
          "output_type": "display_data",
          "data": {
            "application/vnd.jupyter.widget-view+json": {
              "model_id": "9f06f7d255dd41769e0fd4e9da5e7b43",
              "version_minor": 0,
              "version_major": 2
            },
            "text/plain": [
              "HBox(children=(FloatProgress(value=0.0, max=29515.0), HTML(value='')))"
            ]
          },
          "metadata": {
            "tags": []
          }
        },
        {
          "output_type": "stream",
          "text": [
            "\n",
            "Extracting data/FashionMNIST/raw/train-labels-idx1-ubyte.gz to data/FashionMNIST/raw\n",
            "\n",
            "Downloading http://fashion-mnist.s3-website.eu-central-1.amazonaws.com/t10k-images-idx3-ubyte.gz\n",
            "Downloading http://fashion-mnist.s3-website.eu-central-1.amazonaws.com/t10k-images-idx3-ubyte.gz to data/FashionMNIST/raw/t10k-images-idx3-ubyte.gz\n"
          ],
          "name": "stdout"
        },
        {
          "output_type": "display_data",
          "data": {
            "application/vnd.jupyter.widget-view+json": {
              "model_id": "037c8a3d135a46f9b57009e74d05e70e",
              "version_minor": 0,
              "version_major": 2
            },
            "text/plain": [
              "HBox(children=(FloatProgress(value=0.0, max=4422102.0), HTML(value='')))"
            ]
          },
          "metadata": {
            "tags": []
          }
        },
        {
          "output_type": "stream",
          "text": [
            "\n",
            "Extracting data/FashionMNIST/raw/t10k-images-idx3-ubyte.gz to data/FashionMNIST/raw\n",
            "\n",
            "Downloading http://fashion-mnist.s3-website.eu-central-1.amazonaws.com/t10k-labels-idx1-ubyte.gz\n",
            "Downloading http://fashion-mnist.s3-website.eu-central-1.amazonaws.com/t10k-labels-idx1-ubyte.gz to data/FashionMNIST/raw/t10k-labels-idx1-ubyte.gz\n"
          ],
          "name": "stdout"
        },
        {
          "output_type": "display_data",
          "data": {
            "application/vnd.jupyter.widget-view+json": {
              "model_id": "ef4a5006477d435d9ada2ade50341b21",
              "version_minor": 0,
              "version_major": 2
            },
            "text/plain": [
              "HBox(children=(FloatProgress(value=0.0, max=5148.0), HTML(value='')))"
            ]
          },
          "metadata": {
            "tags": []
          }
        },
        {
          "output_type": "stream",
          "text": [
            "\n",
            "Extracting data/FashionMNIST/raw/t10k-labels-idx1-ubyte.gz to data/FashionMNIST/raw\n",
            "\n",
            "Processing...\n",
            "Done!\n"
          ],
          "name": "stdout"
        },
        {
          "output_type": "stream",
          "text": [
            "/usr/local/lib/python3.7/dist-packages/torchvision/datasets/mnist.py:502: UserWarning: The given NumPy array is not writeable, and PyTorch does not support non-writeable tensors. This means you can write to the underlying (supposedly non-writeable) NumPy array using the tensor. You may want to copy the array to protect its data or make it writeable before converting it to a tensor. This type of warning will be suppressed for the rest of this program. (Triggered internally at  /pytorch/torch/csrc/utils/tensor_numpy.cpp:143.)\n",
            "  return torch.from_numpy(parsed.astype(m[2], copy=False)).view(*s)\n"
          ],
          "name": "stderr"
        }
      ]
    },
    {
      "cell_type": "code",
      "metadata": {
        "id": "-aaov7UaeyC0"
      },
      "source": [
        "# Make a dict mapping labels to names of clothing items \n",
        "label_dict = {\n",
        "    0 : \"T-shirt/top\",\n",
        "    1 : \"Trouser\", \n",
        "    2 : \"Pullover\",\n",
        "    3 : \"Dress\",\n",
        "    4 : \"Coat\",\n",
        "    5 : \"Sandal\",\n",
        "    6 : \"Shirt\",\n",
        "    7 : \"Sneaker\",\n",
        "    8 : \"Bag\",\n",
        "    9 : \"Ankle boot\"\n",
        "}"
      ],
      "execution_count": null,
      "outputs": []
    },
    {
      "cell_type": "code",
      "metadata": {
        "colab": {
          "base_uri": "https://localhost:8080/",
          "height": 536
        },
        "id": "nqn6kZtSezXx",
        "outputId": "1b0852ce-32f8-4dd7-ff6c-8913a21ab128"
      },
      "source": [
        "for i in range(1, cols*rows+1):\n",
        "  rand_idx = torch.randint(len(training_data), size=(1,)).item()  # get a random idx\n",
        "  img, label = training_data[rand_idx]\n",
        "  figure.add_subplot(rows, cols, i)\n",
        "  # img.squeeze() removes axis with size 1\n",
        "  plt.imshow(img.squeeze(), cmap=\"gray\")\n",
        "  plt.title(label_dict[label])  # map numerical label to label\n",
        "  plt.axis(\"off\")\n",
        "\n",
        "plt.show()"
      ],
      "execution_count": null,
      "outputs": [
        {
          "output_type": "display_data",
          "data": {
            "image/png": "[encoded data removed]",
            "text/plain": [
              "<Figure size 648x648 with 9 Axes>"
            ]
          },
          "metadata": {
            "tags": [],
            "needs_background": "light"
          }
        }
      ]
    },
    {
      "cell_type": "code",
      "metadata": {
        "colab": {
          "base_uri": "https://localhost:8080/"
        },
        "id": "b6C2nFsHxmOQ",
        "outputId": "f12a7797-3047-4dfd-dcdc-3452155a2419"
      },
      "source": [
        "img, label = training_data[0]\n",
        "print(img.shape)\n",
        "img.view(-1, 1, 28, 28).shape"
      ],
      "execution_count": null,
      "outputs": [
        {
          "output_type": "stream",
          "text": [
            "torch.Size([1, 28, 28])\n"
          ],
          "name": "stdout"
        },
        {
          "output_type": "execute_result",
          "data": {
            "text/plain": [
              "torch.Size([1, 1, 28, 28])"
            ]
          },
          "metadata": {
            "tags": []
          },
          "execution_count": 27
        }
      ]
    },
    {
      "cell_type": "code",
      "metadata": {
        "id": "sJM4Y8TuhG0v"
      },
      "source": [
        "# --- LeNet ---\n",
        "class LeNet(nn.Module):\n",
        "  \"\"\"\n",
        "  Class based off of the LeNet architecture. The architecture is mostly the same except\n",
        "  sigmoid activation functions are replaced with ReLU and average pooling layers \n",
        "  are replaced with max pooling layers.\n",
        "  \"\"\"\n",
        "  def __init__(self):\n",
        "    super(LeNet, self).__init__()\n",
        "    self.net = nn.Sequential(\n",
        "        nn.Conv2d(in_channels=1, out_channels=6, kernel_size=5, padding=2),\n",
        "        nn.ReLU(),\n",
        "        nn.MaxPool2d(kernel_size=2, stride=2),\n",
        "        nn.Conv2d(in_channels=6, out_channels=16, kernel_size=5),\n",
        "        nn.ReLU(),\n",
        "        nn.MaxPool2d(kernel_size=2, stride=2),\n",
        "        nn.Flatten(),\n",
        "        nn.Linear(in_features=16*5*5, out_features=120),\n",
        "        nn.ReLU(),\n",
        "        nn.Linear(in_features=120, out_features=84),\n",
        "        nn.ReLU(),\n",
        "        nn.Linear(in_features=84, out_features=10)\n",
        "    )\n",
        "\n",
        "  def forward(self, x):\n",
        "    logits = self.net(x)\n",
        "    return logits"
      ],
      "execution_count": null,
      "outputs": []
    },
    {
      "cell_type": "code",
      "metadata": {
        "id": "dAbZ4gCEy_Op"
      },
      "source": [
        "test_model = LeNet()\n",
        "X = torch.rand(size=(1, 1, 28, 28), dtype=torch.float32)"
      ],
      "execution_count": null,
      "outputs": []
    },
    {
      "cell_type": "code",
      "metadata": {
        "colab": {
          "base_uri": "https://localhost:8080/"
        },
        "id": "6S81npgpzNPW",
        "outputId": "e7258ead-226a-4e9c-c934-4d07a511bc1b"
      },
      "source": [
        "# Checking to make sure that our dimensions are right\n",
        "for layer in test_model.net:\n",
        "  X = layer(X)\n",
        "  print(layer.__class__.__name__, 'output shape: \\t', X.shape)"
      ],
      "execution_count": null,
      "outputs": [
        {
          "output_type": "stream",
          "text": [
            "Conv2d output shape: \t torch.Size([1, 6, 28, 28])\n",
            "ReLU output shape: \t torch.Size([1, 6, 28, 28])\n",
            "MaxPool2d output shape: \t torch.Size([1, 6, 14, 14])\n",
            "Conv2d output shape: \t torch.Size([1, 16, 10, 10])\n",
            "ReLU output shape: \t torch.Size([1, 16, 10, 10])\n",
            "MaxPool2d output shape: \t torch.Size([1, 16, 5, 5])\n",
            "Flatten output shape: \t torch.Size([1, 400])\n",
            "Linear output shape: \t torch.Size([1, 120])\n",
            "ReLU output shape: \t torch.Size([1, 120])\n",
            "Linear output shape: \t torch.Size([1, 84])\n",
            "ReLU output shape: \t torch.Size([1, 84])\n",
            "Linear output shape: \t torch.Size([1, 10])\n"
          ],
          "name": "stdout"
        }
      ]
    },
    {
      "cell_type": "code",
      "metadata": {
        "id": "zFH0_tKDh3aQ"
      },
      "source": [
        "# Instantiating data loaders\n",
        "train_loader = DataLoader(training_data, batch_size=64, shuffle=True)\n",
        "test_loader = DataLoader(test_data, batch_size=64, shuffle=True)"
      ],
      "execution_count": null,
      "outputs": []
    },
    {
      "cell_type": "code",
      "metadata": {
        "colab": {
          "base_uri": "https://localhost:8080/"
        },
        "id": "pBw9HZ-FnlIG",
        "outputId": "49f1be3b-eb85-44f6-e06f-10742382112a"
      },
      "source": [
        "# Switching to GPU\n",
        "device = 'cuda' if torch.cuda.is_available() else 'cpu'\n",
        "print(\"Our device is {}\".format(device))"
      ],
      "execution_count": null,
      "outputs": [
        {
          "output_type": "stream",
          "text": [
            "Our device is cuda\n"
          ],
          "name": "stdout"
        }
      ]
    },
    {
      "cell_type": "code",
      "metadata": {
        "id": "RLpbJyrRu9Lz"
      },
      "source": [
        "# Initializing hyper params\n",
        "learning_rate = 1e-3\n",
        "batch_size = 64\n",
        "num_epochs = 10"
      ],
      "execution_count": null,
      "outputs": []
    },
    {
      "cell_type": "code",
      "metadata": {
        "id": "37RAy7pyoivz"
      },
      "source": [
        "# Initializing model, objective, optim\n",
        "model = LeNet()\n",
        "criterion = nn.CrossEntropyLoss()\n",
        "optimizer = torch.optim.SGD(model.parameters(), lr=learning_rate)"
      ],
      "execution_count": null,
      "outputs": []
    },
    {
      "cell_type": "code",
      "metadata": {
        "id": "CHQaTmt3vjQu"
      },
      "source": [
        "# Track training loss, validation loss, accuracy\n",
        "training_loss = []\n",
        "validation_loss = []\n",
        "accuracy = []"
      ],
      "execution_count": null,
      "outputs": []
    },
    {
      "cell_type": "code",
      "metadata": {
        "colab": {
          "base_uri": "https://localhost:8080/"
        },
        "id": "qO7lxvyGiDl8",
        "outputId": "771c3295-34b8-4757-c2a3-c6f20f8edc0b"
      },
      "source": [
        "for epoch in range(num_epochs):\n",
        "\n",
        "  # --- Train Model ---\n",
        "  for i, (X, y) in enumerate(train_loader):\n",
        "\n",
        "    size = len(train_loader.dataset)\n",
        "\n",
        "    # --- Compute the prediction and loss ---\n",
        "    pred = model(X)\n",
        "    loss = criterion(pred, y)\n",
        "\n",
        "    # --- Backpropigation ---\n",
        "    optimizer.zero_grad()\n",
        "    loss.backward()\n",
        "    optimizer.step()\n",
        "\n",
        "    training_loss.append(loss.item())\n",
        "\n",
        "    if i % 100 == 0:\n",
        "      loss, current = loss.item(), i * len(X)\n",
        "      print(f\"loss: {loss:>7f}  [{current:>5d}/{size:>5d}]\")\n",
        "\n",
        "  # --- Validate Model ---\n",
        "  with torch.no_grad():\n",
        "    size = len(test_loader.dataset)\n",
        "    avg_loss, avg_acc = 0, 0\n",
        "    for X, y in test_loader:\n",
        "      pred = model(X)\n",
        "      avg_loss += criterion(pred, y)\n",
        "      avg_acc += (pred.argmax(1) == y).type(torch.float).sum().item()\n",
        "\n",
        "    avg_loss /= size\n",
        "    avg_acc /= size\n",
        "\n",
        "    validation_loss.append(avg_loss)\n",
        "    accuracy.append(avg_acc)\n",
        "\n",
        "    print(f\"Test Error: \\n Accuracy: {(100*avg_acc):>0.1f}%, Avg loss: {avg_loss:>8f} \\n\")"
      ],
      "execution_count": null,
      "outputs": [
        {
          "output_type": "stream",
          "text": [
            "loss: 2.282090  [    0/60000]\n",
            "loss: 2.270708  [ 6400/60000]\n",
            "loss: 2.273023  [12800/60000]\n",
            "loss: 2.260845  [19200/60000]\n",
            "loss: 2.264366  [25600/60000]\n",
            "loss: 2.268752  [32000/60000]\n",
            "loss: 2.271592  [38400/60000]\n",
            "loss: 2.251155  [44800/60000]\n",
            "loss: 2.254325  [51200/60000]\n",
            "loss: 2.254223  [57600/60000]\n",
            "Test Error: \n",
            " Accuracy: 28.6%, Avg loss: 0.035318 \n",
            "\n",
            "loss: 2.246030  [    0/60000]\n",
            "loss: 2.262243  [ 6400/60000]\n",
            "loss: 2.245979  [12800/60000]\n",
            "loss: 2.228698  [19200/60000]\n",
            "loss: 2.246845  [25600/60000]\n",
            "loss: 2.208149  [32000/60000]\n",
            "loss: 2.190394  [38400/60000]\n",
            "loss: 2.187492  [44800/60000]\n",
            "loss: 2.141995  [51200/60000]\n",
            "loss: 2.179872  [57600/60000]\n",
            "Test Error: \n",
            " Accuracy: 39.8%, Avg loss: 0.033544 \n",
            "\n",
            "loss: 2.133894  [    0/60000]\n",
            "loss: 2.103370  [ 6400/60000]\n",
            "loss: 2.091255  [12800/60000]\n",
            "loss: 1.980317  [19200/60000]\n",
            "loss: 2.003520  [25600/60000]\n",
            "loss: 1.874744  [32000/60000]\n",
            "loss: 1.776207  [38400/60000]\n",
            "loss: 1.807345  [44800/60000]\n",
            "loss: 1.643559  [51200/60000]\n",
            "loss: 1.619718  [57600/60000]\n",
            "Test Error: \n",
            " Accuracy: 53.0%, Avg loss: 0.024305 \n",
            "\n",
            "loss: 1.534663  [    0/60000]\n",
            "loss: 1.448900  [ 6400/60000]\n",
            "loss: 1.477903  [12800/60000]\n",
            "loss: 1.368535  [19200/60000]\n",
            "loss: 1.236100  [25600/60000]\n",
            "loss: 1.257500  [32000/60000]\n",
            "loss: 1.069855  [38400/60000]\n",
            "loss: 0.991587  [44800/60000]\n",
            "loss: 1.219197  [51200/60000]\n",
            "loss: 1.069426  [57600/60000]\n",
            "Test Error: \n",
            " Accuracy: 60.2%, Avg loss: 0.016981 \n",
            "\n",
            "loss: 0.972564  [    0/60000]\n",
            "loss: 1.203584  [ 6400/60000]\n",
            "loss: 0.952413  [12800/60000]\n",
            "loss: 1.058145  [19200/60000]\n",
            "loss: 0.945917  [25600/60000]\n",
            "loss: 0.869246  [32000/60000]\n",
            "loss: 1.031904  [38400/60000]\n",
            "loss: 1.037561  [44800/60000]\n",
            "loss: 0.842258  [51200/60000]\n",
            "loss: 1.146009  [57600/60000]\n",
            "Test Error: \n",
            " Accuracy: 62.8%, Avg loss: 0.015003 \n",
            "\n",
            "loss: 0.920119  [    0/60000]\n",
            "loss: 0.910193  [ 6400/60000]\n",
            "loss: 0.975726  [12800/60000]\n",
            "loss: 0.926883  [19200/60000]\n",
            "loss: 0.877788  [25600/60000]\n",
            "loss: 0.976404  [32000/60000]\n",
            "loss: 1.233731  [38400/60000]\n",
            "loss: 0.889583  [44800/60000]\n",
            "loss: 0.954998  [51200/60000]\n",
            "loss: 0.773622  [57600/60000]\n",
            "Test Error: \n",
            " Accuracy: 65.5%, Avg loss: 0.014016 \n",
            "\n",
            "loss: 0.927597  [    0/60000]\n",
            "loss: 0.843130  [ 6400/60000]\n",
            "loss: 0.858305  [12800/60000]\n",
            "loss: 0.997677  [19200/60000]\n",
            "loss: 0.897924  [25600/60000]\n",
            "loss: 0.784498  [32000/60000]\n",
            "loss: 0.834057  [38400/60000]\n",
            "loss: 0.781486  [44800/60000]\n",
            "loss: 0.963447  [51200/60000]\n",
            "loss: 0.785019  [57600/60000]\n",
            "Test Error: \n",
            " Accuracy: 67.1%, Avg loss: 0.013484 \n",
            "\n",
            "loss: 0.774561  [    0/60000]\n",
            "loss: 0.749707  [ 6400/60000]\n",
            "loss: 0.919743  [12800/60000]\n",
            "loss: 0.799890  [19200/60000]\n",
            "loss: 0.772027  [25600/60000]\n",
            "loss: 0.860208  [32000/60000]\n",
            "loss: 0.665102  [38400/60000]\n",
            "loss: 0.818937  [44800/60000]\n",
            "loss: 0.917689  [51200/60000]\n",
            "loss: 0.936248  [57600/60000]\n",
            "Test Error: \n",
            " Accuracy: 68.3%, Avg loss: 0.012833 \n",
            "\n",
            "loss: 0.799953  [    0/60000]\n",
            "loss: 1.008563  [ 6400/60000]\n",
            "loss: 0.825685  [12800/60000]\n",
            "loss: 0.852046  [19200/60000]\n",
            "loss: 0.797456  [25600/60000]\n",
            "loss: 0.750025  [32000/60000]\n",
            "loss: 1.193663  [38400/60000]\n",
            "loss: 0.719428  [44800/60000]\n",
            "loss: 0.682953  [51200/60000]\n",
            "loss: 0.700880  [57600/60000]\n",
            "Test Error: \n",
            " Accuracy: 70.6%, Avg loss: 0.012321 \n",
            "\n",
            "loss: 0.663459  [    0/60000]\n",
            "loss: 0.893795  [ 6400/60000]\n",
            "loss: 0.427721  [12800/60000]\n",
            "loss: 0.639680  [19200/60000]\n",
            "loss: 0.696375  [25600/60000]\n",
            "loss: 0.696277  [32000/60000]\n",
            "loss: 0.673440  [38400/60000]\n",
            "loss: 0.967679  [44800/60000]\n",
            "loss: 0.863508  [51200/60000]\n",
            "loss: 0.962321  [57600/60000]\n",
            "Test Error: \n",
            " Accuracy: 70.2%, Avg loss: 0.012241 \n",
            "\n"
          ],
          "name": "stdout"
        }
      ]
    },
    {
      "cell_type": "code",
      "metadata": {
        "colab": {
          "base_uri": "https://localhost:8080/"
        },
        "id": "xHhY4_W0w8AL",
        "outputId": "cb3133e9-6314-4c08-e033-5ec162f0dd92"
      },
      "source": [
        "num_correct = 0\n",
        "for i in range(len(test_data)):\n",
        "  X, y = test_data[i]\n",
        "  X = X.view(-1, 1, 28, 28)\n",
        "  pred = model(X)\n",
        "  num_correct += (pred.argmax(1) == y)\n",
        "\n",
        "print(\"accuracy: {}\".format((num_correct / len(test_data)).item()))"
      ],
      "execution_count": null,
      "outputs": [
        {
          "output_type": "stream",
          "text": [
            "accuracy: 0.7024000287055969\n"
          ],
          "name": "stdout"
        }
      ]
    },
    {
      "cell_type": "code",
      "metadata": {
        "colab": {
          "base_uri": "https://localhost:8080/"
        },
        "id": "ITCjYtqx4f-t",
        "outputId": "9684ef77-38e7-4c63-cffd-3d1d77a14636"
      },
      "source": [
        "idx = torch.randint(len(test_data), size=(1,)).item()\n",
        "X, y = test_data[idx]\n",
        "X = X.view(-1, 1, 28, 28)\n",
        "pred = model(X)\n",
        "pred.argmax(1) == y"
      ],
      "execution_count": null,
      "outputs": [
        {
          "output_type": "execute_result",
          "data": {
            "text/plain": [
              "tensor([True])"
            ]
          },
          "metadata": {
            "tags": []
          },
          "execution_count": 61
        }
      ]
    },
    {
      "cell_type": "code",
      "metadata": {
        "colab": {
          "base_uri": "https://localhost:8080/",
          "height": 282
        },
        "id": "_IVlhOWj4zFx",
        "outputId": "01b9aa5f-193d-42c1-fe58-bea7bdefb5f0"
      },
      "source": [
        "plt.imshow(X.squeeze(), cmap=\"gray\")"
      ],
      "execution_count": null,
      "outputs": [
        {
          "output_type": "execute_result",
          "data": {
            "text/plain": [
              "<matplotlib.image.AxesImage at 0x7fe2d08fafd0>"
            ]
          },
          "metadata": {
            "tags": []
          },
          "execution_count": 62
        },
        {
          "output_type": "display_data",
          "data": {
            "image/png": "[encoded data removed]",
            "text/plain": [
              "<Figure size 432x288 with 1 Axes>"
            ]
          },
          "metadata": {
            "tags": [],
            "needs_background": "light"
          }
        }
      ]
    },
    {
      "cell_type": "code",
      "metadata": {
        "colab": {
          "base_uri": "https://localhost:8080/",
          "height": 35
        },
        "id": "gLVuKFre45zN",
        "outputId": "a58de8eb-3fc6-4e7f-d3fa-6150016d70eb"
      },
      "source": [
        "label_dict[pred.argmax(1).item()]"
      ],
      "execution_count": null,
      "outputs": [
        {
          "output_type": "execute_result",
          "data": {
            "application/vnd.google.colaboratory.intrinsic+json": {
              "type": "string"
            },
            "text/plain": [
              "'Sneaker'"
            ]
          },
          "metadata": {
            "tags": []
          },
          "execution_count": 64
        }
      ]
    }
  ]
}